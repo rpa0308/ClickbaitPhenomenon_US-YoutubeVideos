{
 "cells": [
  {
   "cell_type": "markdown",
   "metadata": {},
   "source": [
    "## **Deep Learning with Python**"
   ]
  },
  {
   "cell_type": "markdown",
   "metadata": {
    "tags": []
   },
   "source": [
    "### **Project: Clickbait phenomenon on US Youtube Videos**\n",
    "#### Group members: Hsun-hui Lin, Wei-Ling Liao"
   ]
  },
  {
   "cell_type": "markdown",
   "metadata": {},
   "source": [
    "Project Description: The dataset **Trending Youtube Video Statistics** was found on kaggle (URL:https://www.kaggle.com/datasets/datasnaek/youtube-new). This dataset includes several months (and counting) of data on daily trending YouTube videos. Many countries were included in this dataset and we chose **US** as our research target. Data includes the video title, channel title, publish time, tags, views, likes and dislikes, description, and comment count.\n",
    "\n",
    "We’ve all seen it, and probably most of us have fallen for it – those headlines that scream that “You’ll never guess what XXX did” or “This will blow your mind”. In the online industry, these headlines are called **Clickbait**, a baiting headline designed to trigger an emotional response that urges you to click through to see what’s next. \n",
    "\n",
    "In this project, we are interested in whether there is Clickbait phenomenon between video title and its view count and we want to figure out whether the model could learn the pattern of catchy titles and subsequently predict the view counts. To achieve our goal, we use the pre-trained model *Glove* and did some experiments to find the best model with different combinations of building layers. At the end, we use the trained-model to predict sentences that are considered to be clickbait titles from online resources and give a observable conclusion on the basis of the result. \n"
   ]
  },
  {
   "cell_type": "markdown",
   "metadata": {},
   "source": [
    "## Part 1\n",
    "### 1.1 Import libraries"
   ]
  },
  {
   "cell_type": "code",
   "execution_count": 47,
   "metadata": {},
   "outputs": [],
   "source": [
    "import sys\n",
    "sys.path.insert(0,'/export/home/wei-ling.liao/.local/lib/python3.10/site-packages')"
   ]
  },
  {
   "cell_type": "code",
   "execution_count": 48,
   "metadata": {
    "tags": []
   },
   "outputs": [
    {
     "name": "stdout",
     "output_type": "stream",
     "text": [
      "Defaulting to user installation because normal site-packages is not writeable\n",
      "Requirement already satisfied: seaborn in /export/home/wei-ling.liao/.local/lib/python3.10/site-packages (0.12.2)\n",
      "Requirement already satisfied: numpy!=1.24.0,>=1.17 in /export/home/wei-ling.liao/.local/lib/python3.10/site-packages (from seaborn) (1.23.4)\n",
      "Requirement already satisfied: pandas>=0.25 in /export/home/wei-ling.liao/.local/lib/python3.10/site-packages (from seaborn) (1.5.3)\n",
      "Requirement already satisfied: matplotlib!=3.6.1,>=3.1 in /export/home/wei-ling.liao/.local/lib/python3.10/site-packages (from seaborn) (3.7.0)\n",
      "Requirement already satisfied: pillow>=6.2.0 in /export/home/wei-ling.liao/.local/lib/python3.10/site-packages (from matplotlib!=3.6.1,>=3.1->seaborn) (9.2.0)\n",
      "Requirement already satisfied: pyparsing>=2.3.1 in /export/home/wei-ling.liao/.local/lib/python3.10/site-packages (from matplotlib!=3.6.1,>=3.1->seaborn) (3.0.9)\n",
      "Requirement already satisfied: cycler>=0.10 in /export/home/wei-ling.liao/.local/lib/python3.10/site-packages (from matplotlib!=3.6.1,>=3.1->seaborn) (0.11.0)\n",
      "Requirement already satisfied: contourpy>=1.0.1 in /export/home/wei-ling.liao/.local/lib/python3.10/site-packages (from matplotlib!=3.6.1,>=3.1->seaborn) (1.0.5)\n",
      "Requirement already satisfied: kiwisolver>=1.0.1 in /export/home/wei-ling.liao/.local/lib/python3.10/site-packages (from matplotlib!=3.6.1,>=3.1->seaborn) (1.4.4)\n",
      "Requirement already satisfied: packaging>=20.0 in /export/home/wei-ling.liao/.local/lib/python3.10/site-packages (from matplotlib!=3.6.1,>=3.1->seaborn) (21.3)\n",
      "Requirement already satisfied: fonttools>=4.22.0 in /export/home/wei-ling.liao/.local/lib/python3.10/site-packages (from matplotlib!=3.6.1,>=3.1->seaborn) (4.38.0)\n",
      "Requirement already satisfied: python-dateutil>=2.7 in /export/home/wei-ling.liao/.local/lib/python3.10/site-packages (from matplotlib!=3.6.1,>=3.1->seaborn) (2.8.2)\n",
      "Requirement already satisfied: pytz>=2020.1 in /usr/lib/python3.10/site-packages (from pandas>=0.25->seaborn) (2022.7.1)\n",
      "Requirement already satisfied: six>=1.5 in /export/home/wei-ling.liao/.local/lib/python3.10/site-packages (from python-dateutil>=2.7->matplotlib!=3.6.1,>=3.1->seaborn) (1.16.0)\n"
     ]
    }
   ],
   "source": [
    "!pip install seaborn"
   ]
  },
  {
   "cell_type": "code",
   "execution_count": 49,
   "metadata": {
    "_cell_guid": "b1076dfc-b9ad-4769-8c92-a6c4dae69d19",
    "_uuid": "8f2839f25d086af736a60e9eeb907d3b93b6e0e5",
    "tags": []
   },
   "outputs": [],
   "source": [
    "import pandas as pd\n",
    "import numpy as np\n",
    "from matplotlib import pyplot as plt\n",
    "import seaborn as sns\n",
    "import re"
   ]
  },
  {
   "cell_type": "code",
   "execution_count": 50,
   "metadata": {
    "tags": []
   },
   "outputs": [],
   "source": [
    "from keras import models,layers\n",
    "import tensorflow as tf\n",
    "from tensorflow.keras.utils import to_categorical\n",
    "from keras.models import Sequential\n",
    "from keras.layers import Flatten, Dense, Embedding, LSTM\n",
    "from keras.preprocessing.text import Tokenizer\n",
    "from keras_preprocessing.sequence import pad_sequences\n",
    "from sklearn.model_selection import train_test_split"
   ]
  },
  {
   "cell_type": "markdown",
   "metadata": {},
   "source": [
    "### 1.2 Feature Selection\n",
    "\n",
    "In terms of regression problem of view counts, the dataset provides some extraneous features that we do not believe are needed for training a proper model. We decided to only consider *title* and *views* columns to reduce feature complexity."
   ]
  },
  {
   "cell_type": "code",
   "execution_count": 51,
   "metadata": {
    "tags": []
   },
   "outputs": [
    {
     "data": {
      "text/html": [
       "<div>\n",
       "<style scoped>\n",
       "    .dataframe tbody tr th:only-of-type {\n",
       "        vertical-align: middle;\n",
       "    }\n",
       "\n",
       "    .dataframe tbody tr th {\n",
       "        vertical-align: top;\n",
       "    }\n",
       "\n",
       "    .dataframe thead th {\n",
       "        text-align: right;\n",
       "    }\n",
       "</style>\n",
       "<table border=\"1\" class=\"dataframe\">\n",
       "  <thead>\n",
       "    <tr style=\"text-align: right;\">\n",
       "      <th></th>\n",
       "      <th>video_id</th>\n",
       "      <th>trending_date</th>\n",
       "      <th>title</th>\n",
       "      <th>channel_title</th>\n",
       "      <th>category_id</th>\n",
       "      <th>publish_time</th>\n",
       "      <th>tags</th>\n",
       "      <th>views</th>\n",
       "      <th>likes</th>\n",
       "      <th>dislikes</th>\n",
       "      <th>comment_count</th>\n",
       "      <th>thumbnail_link</th>\n",
       "      <th>comments_disabled</th>\n",
       "      <th>ratings_disabled</th>\n",
       "      <th>video_error_or_removed</th>\n",
       "      <th>description</th>\n",
       "    </tr>\n",
       "  </thead>\n",
       "  <tbody>\n",
       "    <tr>\n",
       "      <th>0</th>\n",
       "      <td>2kyS6SvSYSE</td>\n",
       "      <td>17.14.11</td>\n",
       "      <td>WE WANT TO TALK ABOUT OUR MARRIAGE</td>\n",
       "      <td>CaseyNeistat</td>\n",
       "      <td>22</td>\n",
       "      <td>2017-11-13T17:13:01.000Z</td>\n",
       "      <td>SHANtell martin</td>\n",
       "      <td>748374</td>\n",
       "      <td>57527</td>\n",
       "      <td>2966</td>\n",
       "      <td>15954</td>\n",
       "      <td>https://i.ytimg.com/vi/2kyS6SvSYSE/default.jpg</td>\n",
       "      <td>False</td>\n",
       "      <td>False</td>\n",
       "      <td>False</td>\n",
       "      <td>SHANTELL'S CHANNEL - https://www.youtube.com/s...</td>\n",
       "    </tr>\n",
       "    <tr>\n",
       "      <th>1</th>\n",
       "      <td>1ZAPwfrtAFY</td>\n",
       "      <td>17.14.11</td>\n",
       "      <td>The Trump Presidency: Last Week Tonight with J...</td>\n",
       "      <td>LastWeekTonight</td>\n",
       "      <td>24</td>\n",
       "      <td>2017-11-13T07:30:00.000Z</td>\n",
       "      <td>last week tonight trump presidency|\"last week ...</td>\n",
       "      <td>2418783</td>\n",
       "      <td>97185</td>\n",
       "      <td>6146</td>\n",
       "      <td>12703</td>\n",
       "      <td>https://i.ytimg.com/vi/1ZAPwfrtAFY/default.jpg</td>\n",
       "      <td>False</td>\n",
       "      <td>False</td>\n",
       "      <td>False</td>\n",
       "      <td>One year after the presidential election, John...</td>\n",
       "    </tr>\n",
       "    <tr>\n",
       "      <th>2</th>\n",
       "      <td>5qpjK5DgCt4</td>\n",
       "      <td>17.14.11</td>\n",
       "      <td>Racist Superman | Rudy Mancuso, King Bach &amp; Le...</td>\n",
       "      <td>Rudy Mancuso</td>\n",
       "      <td>23</td>\n",
       "      <td>2017-11-12T19:05:24.000Z</td>\n",
       "      <td>racist superman|\"rudy\"|\"mancuso\"|\"king\"|\"bach\"...</td>\n",
       "      <td>3191434</td>\n",
       "      <td>146033</td>\n",
       "      <td>5339</td>\n",
       "      <td>8181</td>\n",
       "      <td>https://i.ytimg.com/vi/5qpjK5DgCt4/default.jpg</td>\n",
       "      <td>False</td>\n",
       "      <td>False</td>\n",
       "      <td>False</td>\n",
       "      <td>WATCH MY PREVIOUS VIDEO ▶ \\n\\nSUBSCRIBE ► http...</td>\n",
       "    </tr>\n",
       "    <tr>\n",
       "      <th>3</th>\n",
       "      <td>puqaWrEC7tY</td>\n",
       "      <td>17.14.11</td>\n",
       "      <td>Nickelback Lyrics: Real or Fake?</td>\n",
       "      <td>Good Mythical Morning</td>\n",
       "      <td>24</td>\n",
       "      <td>2017-11-13T11:00:04.000Z</td>\n",
       "      <td>rhett and link|\"gmm\"|\"good mythical morning\"|\"...</td>\n",
       "      <td>343168</td>\n",
       "      <td>10172</td>\n",
       "      <td>666</td>\n",
       "      <td>2146</td>\n",
       "      <td>https://i.ytimg.com/vi/puqaWrEC7tY/default.jpg</td>\n",
       "      <td>False</td>\n",
       "      <td>False</td>\n",
       "      <td>False</td>\n",
       "      <td>Today we find out if Link is a Nickelback amat...</td>\n",
       "    </tr>\n",
       "    <tr>\n",
       "      <th>4</th>\n",
       "      <td>d380meD0W0M</td>\n",
       "      <td>17.14.11</td>\n",
       "      <td>I Dare You: GOING BALD!?</td>\n",
       "      <td>nigahiga</td>\n",
       "      <td>24</td>\n",
       "      <td>2017-11-12T18:01:41.000Z</td>\n",
       "      <td>ryan|\"higa\"|\"higatv\"|\"nigahiga\"|\"i dare you\"|\"...</td>\n",
       "      <td>2095731</td>\n",
       "      <td>132235</td>\n",
       "      <td>1989</td>\n",
       "      <td>17518</td>\n",
       "      <td>https://i.ytimg.com/vi/d380meD0W0M/default.jpg</td>\n",
       "      <td>False</td>\n",
       "      <td>False</td>\n",
       "      <td>False</td>\n",
       "      <td>I know it's been a while since we did this sho...</td>\n",
       "    </tr>\n",
       "  </tbody>\n",
       "</table>\n",
       "</div>"
      ],
      "text/plain": [
       "      video_id trending_date  \\\n",
       "0  2kyS6SvSYSE      17.14.11   \n",
       "1  1ZAPwfrtAFY      17.14.11   \n",
       "2  5qpjK5DgCt4      17.14.11   \n",
       "3  puqaWrEC7tY      17.14.11   \n",
       "4  d380meD0W0M      17.14.11   \n",
       "\n",
       "                                               title          channel_title  \\\n",
       "0                 WE WANT TO TALK ABOUT OUR MARRIAGE           CaseyNeistat   \n",
       "1  The Trump Presidency: Last Week Tonight with J...        LastWeekTonight   \n",
       "2  Racist Superman | Rudy Mancuso, King Bach & Le...           Rudy Mancuso   \n",
       "3                   Nickelback Lyrics: Real or Fake?  Good Mythical Morning   \n",
       "4                           I Dare You: GOING BALD!?               nigahiga   \n",
       "\n",
       "   category_id              publish_time  \\\n",
       "0           22  2017-11-13T17:13:01.000Z   \n",
       "1           24  2017-11-13T07:30:00.000Z   \n",
       "2           23  2017-11-12T19:05:24.000Z   \n",
       "3           24  2017-11-13T11:00:04.000Z   \n",
       "4           24  2017-11-12T18:01:41.000Z   \n",
       "\n",
       "                                                tags    views   likes  \\\n",
       "0                                    SHANtell martin   748374   57527   \n",
       "1  last week tonight trump presidency|\"last week ...  2418783   97185   \n",
       "2  racist superman|\"rudy\"|\"mancuso\"|\"king\"|\"bach\"...  3191434  146033   \n",
       "3  rhett and link|\"gmm\"|\"good mythical morning\"|\"...   343168   10172   \n",
       "4  ryan|\"higa\"|\"higatv\"|\"nigahiga\"|\"i dare you\"|\"...  2095731  132235   \n",
       "\n",
       "   dislikes  comment_count                                  thumbnail_link  \\\n",
       "0      2966          15954  https://i.ytimg.com/vi/2kyS6SvSYSE/default.jpg   \n",
       "1      6146          12703  https://i.ytimg.com/vi/1ZAPwfrtAFY/default.jpg   \n",
       "2      5339           8181  https://i.ytimg.com/vi/5qpjK5DgCt4/default.jpg   \n",
       "3       666           2146  https://i.ytimg.com/vi/puqaWrEC7tY/default.jpg   \n",
       "4      1989          17518  https://i.ytimg.com/vi/d380meD0W0M/default.jpg   \n",
       "\n",
       "   comments_disabled  ratings_disabled  video_error_or_removed  \\\n",
       "0              False             False                   False   \n",
       "1              False             False                   False   \n",
       "2              False             False                   False   \n",
       "3              False             False                   False   \n",
       "4              False             False                   False   \n",
       "\n",
       "                                         description  \n",
       "0  SHANTELL'S CHANNEL - https://www.youtube.com/s...  \n",
       "1  One year after the presidential election, John...  \n",
       "2  WATCH MY PREVIOUS VIDEO ▶ \\n\\nSUBSCRIBE ► http...  \n",
       "3  Today we find out if Link is a Nickelback amat...  \n",
       "4  I know it's been a while since we did this sho...  "
      ]
     },
     "execution_count": 51,
     "metadata": {},
     "output_type": "execute_result"
    }
   ],
   "source": [
    "df = pd.read_csv(\"/compLing/students/courses/deepLearning/finalProject23/wei-ling.liao/USvideos.csv\")\n",
    "df.head()"
   ]
  },
  {
   "cell_type": "code",
   "execution_count": 52,
   "metadata": {
    "tags": []
   },
   "outputs": [
    {
     "data": {
      "text/html": [
       "<div>\n",
       "<style scoped>\n",
       "    .dataframe tbody tr th:only-of-type {\n",
       "        vertical-align: middle;\n",
       "    }\n",
       "\n",
       "    .dataframe tbody tr th {\n",
       "        vertical-align: top;\n",
       "    }\n",
       "\n",
       "    .dataframe thead th {\n",
       "        text-align: right;\n",
       "    }\n",
       "</style>\n",
       "<table border=\"1\" class=\"dataframe\">\n",
       "  <thead>\n",
       "    <tr style=\"text-align: right;\">\n",
       "      <th></th>\n",
       "      <th>title</th>\n",
       "      <th>views</th>\n",
       "    </tr>\n",
       "  </thead>\n",
       "  <tbody>\n",
       "    <tr>\n",
       "      <th>0</th>\n",
       "      <td>WE WANT TO TALK ABOUT OUR MARRIAGE</td>\n",
       "      <td>748374</td>\n",
       "    </tr>\n",
       "    <tr>\n",
       "      <th>1</th>\n",
       "      <td>The Trump Presidency: Last Week Tonight with J...</td>\n",
       "      <td>2418783</td>\n",
       "    </tr>\n",
       "    <tr>\n",
       "      <th>2</th>\n",
       "      <td>Racist Superman | Rudy Mancuso, King Bach &amp; Le...</td>\n",
       "      <td>3191434</td>\n",
       "    </tr>\n",
       "    <tr>\n",
       "      <th>3</th>\n",
       "      <td>Nickelback Lyrics: Real or Fake?</td>\n",
       "      <td>343168</td>\n",
       "    </tr>\n",
       "    <tr>\n",
       "      <th>4</th>\n",
       "      <td>I Dare You: GOING BALD!?</td>\n",
       "      <td>2095731</td>\n",
       "    </tr>\n",
       "  </tbody>\n",
       "</table>\n",
       "</div>"
      ],
      "text/plain": [
       "                                               title    views\n",
       "0                 WE WANT TO TALK ABOUT OUR MARRIAGE   748374\n",
       "1  The Trump Presidency: Last Week Tonight with J...  2418783\n",
       "2  Racist Superman | Rudy Mancuso, King Bach & Le...  3191434\n",
       "3                   Nickelback Lyrics: Real or Fake?   343168\n",
       "4                           I Dare You: GOING BALD!?  2095731"
      ]
     },
     "execution_count": 52,
     "metadata": {},
     "output_type": "execute_result"
    }
   ],
   "source": [
    "# only title and views columns are needed\n",
    "df = df[[\"title\", \"views\"]]\n",
    "df.head()"
   ]
  },
  {
   "cell_type": "markdown",
   "metadata": {},
   "source": [
    "### 1.3 Data Inspection"
   ]
  },
  {
   "cell_type": "code",
   "execution_count": 53,
   "metadata": {
    "tags": []
   },
   "outputs": [
    {
     "data": {
      "text/plain": [
       "40949"
      ]
     },
     "execution_count": 53,
     "metadata": {},
     "output_type": "execute_result"
    }
   ],
   "source": [
    "len(df) # there are 40949 rows in total"
   ]
  },
  {
   "cell_type": "code",
   "execution_count": 54,
   "metadata": {},
   "outputs": [
    {
     "data": {
      "text/plain": [
       "(40949, 2)"
      ]
     },
     "execution_count": 54,
     "metadata": {},
     "output_type": "execute_result"
    }
   ],
   "source": [
    "df.shape # check the shape of df"
   ]
  },
  {
   "cell_type": "code",
   "execution_count": 55,
   "metadata": {
    "tags": []
   },
   "outputs": [
    {
     "name": "stdout",
     "output_type": "stream",
     "text": [
      "title    0\n",
      "views    0\n",
      "dtype: int64\n"
     ]
    }
   ],
   "source": [
    "print(df.isna().sum()) # check if there is any NA value in dataframe"
   ]
  },
  {
   "cell_type": "code",
   "execution_count": 56,
   "metadata": {
    "tags": []
   },
   "outputs": [
    {
     "name": "stdout",
     "output_type": "stream",
     "text": [
      "Least view count is 549, and the most has 225211923 views.\n",
      "The mean:  2360784.6382573447\n",
      "The median:  681861.0\n",
      "The std:  7394113.75970394\n"
     ]
    }
   ],
   "source": [
    "print(\"Least view count is {min}, and the most has {max} views.\".format(min=df.views.min(), max=df.views.max()))\n",
    "\n",
    "print(\"The mean: \", df.views.mean())\n",
    "print(\"The median: \", df.views.median())\n",
    "print(\"The std: \", df.views.std())"
   ]
  },
  {
   "cell_type": "markdown",
   "metadata": {},
   "source": [
    "### 1.4 Data Transformation: Log transformation & Normalization\n",
    "\n",
    "We have seen that there is a huge variance in the view count; therefore, it is necessary to reduce the skewness for further steps. The skewness before log-transformation was 12.24, while the value is reduced to -0.4 after log algorithm. Furthermore, we applied normalization to change the values of views_log column in the dataset to a common scale, without distorting differences in the ranges of values. This process helps to save the training time and the memory used to store the data."
   ]
  },
  {
   "cell_type": "code",
   "execution_count": 57,
   "metadata": {
    "tags": []
   },
   "outputs": [
    {
     "data": {
      "text/html": [
       "<div>\n",
       "<style scoped>\n",
       "    .dataframe tbody tr th:only-of-type {\n",
       "        vertical-align: middle;\n",
       "    }\n",
       "\n",
       "    .dataframe tbody tr th {\n",
       "        vertical-align: top;\n",
       "    }\n",
       "\n",
       "    .dataframe thead th {\n",
       "        text-align: right;\n",
       "    }\n",
       "</style>\n",
       "<table border=\"1\" class=\"dataframe\">\n",
       "  <thead>\n",
       "    <tr style=\"text-align: right;\">\n",
       "      <th></th>\n",
       "      <th>title</th>\n",
       "      <th>views</th>\n",
       "      <th>views_log</th>\n",
       "    </tr>\n",
       "  </thead>\n",
       "  <tbody>\n",
       "    <tr>\n",
       "      <th>0</th>\n",
       "      <td>WE WANT TO TALK ABOUT OUR MARRIAGE</td>\n",
       "      <td>748374</td>\n",
       "      <td>13.53</td>\n",
       "    </tr>\n",
       "    <tr>\n",
       "      <th>1</th>\n",
       "      <td>The Trump Presidency: Last Week Tonight with J...</td>\n",
       "      <td>2418783</td>\n",
       "      <td>14.70</td>\n",
       "    </tr>\n",
       "    <tr>\n",
       "      <th>2</th>\n",
       "      <td>Racist Superman | Rudy Mancuso, King Bach &amp; Le...</td>\n",
       "      <td>3191434</td>\n",
       "      <td>14.98</td>\n",
       "    </tr>\n",
       "    <tr>\n",
       "      <th>3</th>\n",
       "      <td>Nickelback Lyrics: Real or Fake?</td>\n",
       "      <td>343168</td>\n",
       "      <td>12.75</td>\n",
       "    </tr>\n",
       "    <tr>\n",
       "      <th>4</th>\n",
       "      <td>I Dare You: GOING BALD!?</td>\n",
       "      <td>2095731</td>\n",
       "      <td>14.56</td>\n",
       "    </tr>\n",
       "  </tbody>\n",
       "</table>\n",
       "</div>"
      ],
      "text/plain": [
       "                                               title    views  views_log\n",
       "0                 WE WANT TO TALK ABOUT OUR MARRIAGE   748374      13.53\n",
       "1  The Trump Presidency: Last Week Tonight with J...  2418783      14.70\n",
       "2  Racist Superman | Rudy Mancuso, King Bach & Le...  3191434      14.98\n",
       "3                   Nickelback Lyrics: Real or Fake?   343168      12.75\n",
       "4                           I Dare You: GOING BALD!?  2095731      14.56"
      ]
     },
     "execution_count": 57,
     "metadata": {},
     "output_type": "execute_result"
    }
   ],
   "source": [
    "df[\"views_log\"] = round(np.log1p(df[\"views\"]),2) # applied log-transformation \n",
    "df.head()"
   ]
  },
  {
   "cell_type": "code",
   "execution_count": 58,
   "metadata": {
    "tags": []
   },
   "outputs": [
    {
     "data": {
      "image/png": "[encoded data removed]",
      "text/plain": [
       "<Figure size 2000x500 with 2 Axes>"
      ]
     },
     "metadata": {},
     "output_type": "display_data"
    }
   ],
   "source": [
    "# Visualize the views count after log algorithm\n",
    "plt.figure(figsize = (20,5))\n",
    "plt.subplots_adjust(top=0.8)\n",
    "plt.suptitle(\"Before and after log-transformation of views column\",fontsize=25)\n",
    "ax = plt.subplot(1,2,1)\n",
    "sns.histplot(df[\"views\"],kde=True,label=\"Skewness:\"+str(round(df[\"views\"].skew(),2)))\n",
    "plt.legend(fontsize=14,shadow=True,fancybox=True, frameon=True)\n",
    "ax.set_title(\"views\"+' histogram',fontsize=20)\n",
    "plt.tick_params(labelsize=13)\n",
    "plt.xlabel(\"Views\",fontsize=13)\n",
    "plt.ylabel(\"Count\",fontsize=13)\n",
    "\n",
    "ax = plt.subplot(1,2,2)\n",
    "sns.histplot(np.log1p(df[\"views\"]),kde=True,label=\"Skewness:\"+str(round(np.log1p(df[\"views\"]).skew(),2)))\n",
    "plt.legend(fontsize=14,shadow=True,fancybox=True, frameon=True)\n",
    "ax.set_title(\"views\"+' log histogram',fontsize=20)\n",
    "plt.tick_params(labelsize=13)\n",
    "plt.xlabel(\"Views\",fontsize=13)\n",
    "plt.ylabel(\"Count\",fontsize=13)\n",
    "sns.despine()\n",
    "plt.show()"
   ]
  },
  {
   "cell_type": "code",
   "execution_count": 59,
   "metadata": {},
   "outputs": [],
   "source": [
    "# Normalize the views_log between 0 and 1\n",
    "def normalize(col):\n",
    "    min_value = col.min()\n",
    "    max_value = col.max()\n",
    "    for i in range(len(col)):\n",
    "        col[i] = (col[i] - min_value)/(max_value - min_value)\n",
    "    return col"
   ]
  },
  {
   "cell_type": "code",
   "execution_count": 60,
   "metadata": {},
   "outputs": [
    {
     "name": "stderr",
     "output_type": "stream",
     "text": [
      "/tmp/ipykernel_44658/554750883.py:6: SettingWithCopyWarning: \n",
      "A value is trying to be set on a copy of a slice from a DataFrame\n",
      "\n",
      "See the caveats in the documentation: https://pandas.pydata.org/pandas-docs/stable/user_guide/indexing.html#returning-a-view-versus-a-copy\n",
      "  col[i] = (col[i] - min_value)/(max_value - min_value)\n"
     ]
    },
    {
     "data": {
      "text/html": [
       "<div>\n",
       "<style scoped>\n",
       "    .dataframe tbody tr th:only-of-type {\n",
       "        vertical-align: middle;\n",
       "    }\n",
       "\n",
       "    .dataframe tbody tr th {\n",
       "        vertical-align: top;\n",
       "    }\n",
       "\n",
       "    .dataframe thead th {\n",
       "        text-align: right;\n",
       "    }\n",
       "</style>\n",
       "<table border=\"1\" class=\"dataframe\">\n",
       "  <thead>\n",
       "    <tr style=\"text-align: right;\">\n",
       "      <th></th>\n",
       "      <th>title</th>\n",
       "      <th>views</th>\n",
       "      <th>views_log</th>\n",
       "      <th>views_norm</th>\n",
       "    </tr>\n",
       "  </thead>\n",
       "  <tbody>\n",
       "    <tr>\n",
       "      <th>0</th>\n",
       "      <td>WE WANT TO TALK ABOUT OUR MARRIAGE</td>\n",
       "      <td>748374</td>\n",
       "      <td>13.53</td>\n",
       "      <td>0.558824</td>\n",
       "    </tr>\n",
       "    <tr>\n",
       "      <th>1</th>\n",
       "      <td>The Trump Presidency: Last Week Tonight with J...</td>\n",
       "      <td>2418783</td>\n",
       "      <td>14.70</td>\n",
       "      <td>0.649381</td>\n",
       "    </tr>\n",
       "    <tr>\n",
       "      <th>2</th>\n",
       "      <td>Racist Superman | Rudy Mancuso, King Bach &amp; Le...</td>\n",
       "      <td>3191434</td>\n",
       "      <td>14.98</td>\n",
       "      <td>0.671053</td>\n",
       "    </tr>\n",
       "    <tr>\n",
       "      <th>3</th>\n",
       "      <td>Nickelback Lyrics: Real or Fake?</td>\n",
       "      <td>343168</td>\n",
       "      <td>12.75</td>\n",
       "      <td>0.498452</td>\n",
       "    </tr>\n",
       "    <tr>\n",
       "      <th>4</th>\n",
       "      <td>I Dare You: GOING BALD!?</td>\n",
       "      <td>2095731</td>\n",
       "      <td>14.56</td>\n",
       "      <td>0.638545</td>\n",
       "    </tr>\n",
       "    <tr>\n",
       "      <th>...</th>\n",
       "      <td>...</td>\n",
       "      <td>...</td>\n",
       "      <td>...</td>\n",
       "      <td>...</td>\n",
       "    </tr>\n",
       "    <tr>\n",
       "      <th>40944</th>\n",
       "      <td>The Cat Who Caught the Laser</td>\n",
       "      <td>1685609</td>\n",
       "      <td>14.34</td>\n",
       "      <td>0.621517</td>\n",
       "    </tr>\n",
       "    <tr>\n",
       "      <th>40945</th>\n",
       "      <td>True Facts : Ant Mutualism</td>\n",
       "      <td>1064798</td>\n",
       "      <td>13.88</td>\n",
       "      <td>0.585913</td>\n",
       "    </tr>\n",
       "    <tr>\n",
       "      <th>40946</th>\n",
       "      <td>I GAVE SAFIYA NYGAARD A PERFECT HAIR MAKEOVER ...</td>\n",
       "      <td>1066451</td>\n",
       "      <td>13.88</td>\n",
       "      <td>0.585913</td>\n",
       "    </tr>\n",
       "    <tr>\n",
       "      <th>40947</th>\n",
       "      <td>How Black Panther Should Have Ended</td>\n",
       "      <td>5660813</td>\n",
       "      <td>15.55</td>\n",
       "      <td>0.715170</td>\n",
       "    </tr>\n",
       "    <tr>\n",
       "      <th>40948</th>\n",
       "      <td>Official Call of Duty®: Black Ops 4 — Multipla...</td>\n",
       "      <td>10306119</td>\n",
       "      <td>16.15</td>\n",
       "      <td>0.761610</td>\n",
       "    </tr>\n",
       "  </tbody>\n",
       "</table>\n",
       "<p>40949 rows × 4 columns</p>\n",
       "</div>"
      ],
      "text/plain": [
       "                                                   title     views  views_log  \\\n",
       "0                     WE WANT TO TALK ABOUT OUR MARRIAGE    748374      13.53   \n",
       "1      The Trump Presidency: Last Week Tonight with J...   2418783      14.70   \n",
       "2      Racist Superman | Rudy Mancuso, King Bach & Le...   3191434      14.98   \n",
       "3                       Nickelback Lyrics: Real or Fake?    343168      12.75   \n",
       "4                               I Dare You: GOING BALD!?   2095731      14.56   \n",
       "...                                                  ...       ...        ...   \n",
       "40944                       The Cat Who Caught the Laser   1685609      14.34   \n",
       "40945                         True Facts : Ant Mutualism   1064798      13.88   \n",
       "40946  I GAVE SAFIYA NYGAARD A PERFECT HAIR MAKEOVER ...   1066451      13.88   \n",
       "40947                How Black Panther Should Have Ended   5660813      15.55   \n",
       "40948  Official Call of Duty®: Black Ops 4 — Multipla...  10306119      16.15   \n",
       "\n",
       "       views_norm  \n",
       "0        0.558824  \n",
       "1        0.649381  \n",
       "2        0.671053  \n",
       "3        0.498452  \n",
       "4        0.638545  \n",
       "...           ...  \n",
       "40944    0.621517  \n",
       "40945    0.585913  \n",
       "40946    0.585913  \n",
       "40947    0.715170  \n",
       "40948    0.761610  \n",
       "\n",
       "[40949 rows x 4 columns]"
      ]
     },
     "execution_count": 60,
     "metadata": {},
     "output_type": "execute_result"
    }
   ],
   "source": [
    "df[\"views_norm\"] = df[\"views_log\"]\n",
    "normalize(df[\"views_norm\"])\n",
    "df"
   ]
  },
  {
   "cell_type": "code",
   "execution_count": 61,
   "metadata": {},
   "outputs": [
    {
     "name": "stderr",
     "output_type": "stream",
     "text": [
      "No artists with labels found to put in legend.  Note that artists whose label start with an underscore are ignored when legend() is called with no argument.\n"
     ]
    },
    {
     "data": {
      "text/plain": [
       "<matplotlib.legend.Legend at 0x7f4009643bb0>"
      ]
     },
     "execution_count": 61,
     "metadata": {},
     "output_type": "execute_result"
    },
    {
     "data": {
      "image/png": "[encoded data removed]",
      "text/plain": [
       "<Figure size 640x480 with 1 Axes>"
      ]
     },
     "metadata": {},
     "output_type": "display_data"
    }
   ],
   "source": [
    "# plot the views_norm \n",
    "sns.histplot(df.views_norm,kde=True)\n",
    "plt.legend(fontsize=14,shadow=True,fancybox=True, frameon=True)"
   ]
  },
  {
   "cell_type": "code",
   "execution_count": 62,
   "metadata": {
    "tags": []
   },
   "outputs": [
    {
     "name": "stdout",
     "output_type": "stream",
     "text": [
      "Length of the shortest title:  1\n",
      "Length of the longest title:  23\n"
     ]
    }
   ],
   "source": [
    "min_length = min([len(title.split()) for title in df[\"title\"]])\n",
    "print(\"Length of the shortest title: \", min_length)\n",
    "\n",
    "max_length = max([len(title.split()) for title in df[\"title\"]])\n",
    "print(\"Length of the longest title: \", max_length)"
   ]
  },
  {
   "cell_type": "markdown",
   "metadata": {},
   "source": [
    "### 1.5 Data Preprocessing & Data Splitting"
   ]
  },
  {
   "cell_type": "code",
   "execution_count": 63,
   "metadata": {
    "tags": []
   },
   "outputs": [
    {
     "name": "stdout",
     "output_type": "stream",
     "text": [
      "Videos extractd:  6440\n",
      "Differences in views_norm:  1176\n"
     ]
    },
    {
     "data": {
      "text/html": [
       "<div>\n",
       "<style scoped>\n",
       "    .dataframe tbody tr th:only-of-type {\n",
       "        vertical-align: middle;\n",
       "    }\n",
       "\n",
       "    .dataframe tbody tr th {\n",
       "        vertical-align: top;\n",
       "    }\n",
       "\n",
       "    .dataframe thead th {\n",
       "        text-align: right;\n",
       "    }\n",
       "</style>\n",
       "<table border=\"1\" class=\"dataframe\">\n",
       "  <thead>\n",
       "    <tr style=\"text-align: right;\">\n",
       "      <th></th>\n",
       "      <th>title</th>\n",
       "      <th>views</th>\n",
       "      <th>views_log</th>\n",
       "      <th>views_norm</th>\n",
       "    </tr>\n",
       "  </thead>\n",
       "  <tbody>\n",
       "    <tr>\n",
       "      <th>0</th>\n",
       "      <td>we want to talk about our marriage</td>\n",
       "      <td>748374</td>\n",
       "      <td>13.53</td>\n",
       "      <td>0.558824</td>\n",
       "    </tr>\n",
       "    <tr>\n",
       "      <th>1</th>\n",
       "      <td>the trump presidency: last week tonight with j...</td>\n",
       "      <td>2418783</td>\n",
       "      <td>14.70</td>\n",
       "      <td>0.649381</td>\n",
       "    </tr>\n",
       "    <tr>\n",
       "      <th>2</th>\n",
       "      <td>racist superman | rudy mancuso, king bach &amp; le...</td>\n",
       "      <td>3191434</td>\n",
       "      <td>14.98</td>\n",
       "      <td>0.671053</td>\n",
       "    </tr>\n",
       "    <tr>\n",
       "      <th>3</th>\n",
       "      <td>nickelback lyrics: real or fake?</td>\n",
       "      <td>343168</td>\n",
       "      <td>12.75</td>\n",
       "      <td>0.498452</td>\n",
       "    </tr>\n",
       "    <tr>\n",
       "      <th>4</th>\n",
       "      <td>i dare you: going bald!?</td>\n",
       "      <td>2095731</td>\n",
       "      <td>14.56</td>\n",
       "      <td>0.638545</td>\n",
       "    </tr>\n",
       "    <tr>\n",
       "      <th>...</th>\n",
       "      <td>...</td>\n",
       "      <td>...</td>\n",
       "      <td>...</td>\n",
       "      <td>...</td>\n",
       "    </tr>\n",
       "    <tr>\n",
       "      <th>40944</th>\n",
       "      <td>the cat who caught the laser</td>\n",
       "      <td>1685609</td>\n",
       "      <td>14.34</td>\n",
       "      <td>0.621517</td>\n",
       "    </tr>\n",
       "    <tr>\n",
       "      <th>40945</th>\n",
       "      <td>true facts : ant mutualism</td>\n",
       "      <td>1064798</td>\n",
       "      <td>13.88</td>\n",
       "      <td>0.585913</td>\n",
       "    </tr>\n",
       "    <tr>\n",
       "      <th>40946</th>\n",
       "      <td>i gave safiya nygaard a perfect hair makeover ...</td>\n",
       "      <td>1066451</td>\n",
       "      <td>13.88</td>\n",
       "      <td>0.585913</td>\n",
       "    </tr>\n",
       "    <tr>\n",
       "      <th>40947</th>\n",
       "      <td>how black panther should have ended</td>\n",
       "      <td>5660813</td>\n",
       "      <td>15.55</td>\n",
       "      <td>0.715170</td>\n",
       "    </tr>\n",
       "    <tr>\n",
       "      <th>40948</th>\n",
       "      <td>official call of duty®: black ops 4 — multipla...</td>\n",
       "      <td>10306119</td>\n",
       "      <td>16.15</td>\n",
       "      <td>0.761610</td>\n",
       "    </tr>\n",
       "  </tbody>\n",
       "</table>\n",
       "<p>40949 rows × 4 columns</p>\n",
       "</div>"
      ],
      "text/plain": [
       "                                                   title     views  views_log  \\\n",
       "0                     we want to talk about our marriage    748374      13.53   \n",
       "1      the trump presidency: last week tonight with j...   2418783      14.70   \n",
       "2      racist superman | rudy mancuso, king bach & le...   3191434      14.98   \n",
       "3                       nickelback lyrics: real or fake?    343168      12.75   \n",
       "4                               i dare you: going bald!?   2095731      14.56   \n",
       "...                                                  ...       ...        ...   \n",
       "40944                       the cat who caught the laser   1685609      14.34   \n",
       "40945                         true facts : ant mutualism   1064798      13.88   \n",
       "40946  i gave safiya nygaard a perfect hair makeover ...   1066451      13.88   \n",
       "40947                how black panther should have ended   5660813      15.55   \n",
       "40948  official call of duty®: black ops 4 — multipla...  10306119      16.15   \n",
       "\n",
       "       views_norm  \n",
       "0        0.558824  \n",
       "1        0.649381  \n",
       "2        0.671053  \n",
       "3        0.498452  \n",
       "4        0.638545  \n",
       "...           ...  \n",
       "40944    0.621517  \n",
       "40945    0.585913  \n",
       "40946    0.585913  \n",
       "40947    0.715170  \n",
       "40948    0.761610  \n",
       "\n",
       "[40949 rows x 4 columns]"
      ]
     },
     "execution_count": 63,
     "metadata": {},
     "output_type": "execute_result"
    }
   ],
   "source": [
    "df.title = df.title.replace('\\n','')\n",
    "df.title = df.title.str.lower() # lowercase the text\n",
    "print(\"Videos extractd: \", df.title.nunique()) # nunique() returns the number of unique values for each column\n",
    "print(\"Differences in views_norm: \", df.views_norm.nunique())\n",
    "df"
   ]
  },
  {
   "cell_type": "code",
   "execution_count": 64,
   "metadata": {},
   "outputs": [
    {
     "data": {
      "text/html": [
       "<div>\n",
       "<style scoped>\n",
       "    .dataframe tbody tr th:only-of-type {\n",
       "        vertical-align: middle;\n",
       "    }\n",
       "\n",
       "    .dataframe tbody tr th {\n",
       "        vertical-align: top;\n",
       "    }\n",
       "\n",
       "    .dataframe thead th {\n",
       "        text-align: right;\n",
       "    }\n",
       "</style>\n",
       "<table border=\"1\" class=\"dataframe\">\n",
       "  <thead>\n",
       "    <tr style=\"text-align: right;\">\n",
       "      <th></th>\n",
       "      <th>title</th>\n",
       "      <th>views</th>\n",
       "      <th>views_log</th>\n",
       "      <th>views_norm</th>\n",
       "    </tr>\n",
       "  </thead>\n",
       "  <tbody>\n",
       "    <tr>\n",
       "      <th>0</th>\n",
       "      <td>#184 making a pcb using easyeda. // review</td>\n",
       "      <td>3.237000e+03</td>\n",
       "      <td>8.080000</td>\n",
       "      <td>0.136997</td>\n",
       "    </tr>\n",
       "    <tr>\n",
       "      <th>1</th>\n",
       "      <td>#23 feed the homeless | one list, one life</td>\n",
       "      <td>4.025333e+04</td>\n",
       "      <td>10.600000</td>\n",
       "      <td>0.332043</td>\n",
       "    </tr>\n",
       "    <tr>\n",
       "      <th>2</th>\n",
       "      <td>#57: am and ssb explained</td>\n",
       "      <td>3.489500e+03</td>\n",
       "      <td>8.157500</td>\n",
       "      <td>0.142995</td>\n",
       "    </tr>\n",
       "    <tr>\n",
       "      <th>3</th>\n",
       "      <td>#abovethenoise feat. serena williams, neymar j...</td>\n",
       "      <td>2.152261e+06</td>\n",
       "      <td>14.580000</td>\n",
       "      <td>0.640093</td>\n",
       "    </tr>\n",
       "    <tr>\n",
       "      <th>4</th>\n",
       "      <td>#boogiedown contest winners announced</td>\n",
       "      <td>3.787939e+06</td>\n",
       "      <td>15.128889</td>\n",
       "      <td>0.682577</td>\n",
       "    </tr>\n",
       "    <tr>\n",
       "      <th>...</th>\n",
       "      <td>...</td>\n",
       "      <td>...</td>\n",
       "      <td>...</td>\n",
       "      <td>...</td>\n",
       "    </tr>\n",
       "    <tr>\n",
       "      <th>6435</th>\n",
       "      <td>힐링쿠킹♥ 빙글빙글 회오리젤리 만들기! - ari kitchen(아리키친)</td>\n",
       "      <td>2.801898e+05</td>\n",
       "      <td>12.537500</td>\n",
       "      <td>0.482005</td>\n",
       "    </tr>\n",
       "    <tr>\n",
       "      <th>6436</th>\n",
       "      <td>🍒 april favs 🍒 (music, clothes, life)</td>\n",
       "      <td>1.452812e+05</td>\n",
       "      <td>11.883750</td>\n",
       "      <td>0.431405</td>\n",
       "    </tr>\n",
       "    <tr>\n",
       "      <th>6437</th>\n",
       "      <td>🍫달콤 쌉사름~ 리얼 초콜릿 우유 만들기 real chocolate milk | 한세</td>\n",
       "      <td>1.563886e+05</td>\n",
       "      <td>11.928571</td>\n",
       "      <td>0.434874</td>\n",
       "    </tr>\n",
       "    <tr>\n",
       "      <th>6438</th>\n",
       "      <td>🎃 how to make pumpkin pie mistakes</td>\n",
       "      <td>1.533730e+05</td>\n",
       "      <td>11.905000</td>\n",
       "      <td>0.433050</td>\n",
       "    </tr>\n",
       "    <tr>\n",
       "      <th>6439</th>\n",
       "      <td>😱 $1,145 iphone case!!</td>\n",
       "      <td>6.055387e+05</td>\n",
       "      <td>13.283333</td>\n",
       "      <td>0.539732</td>\n",
       "    </tr>\n",
       "  </tbody>\n",
       "</table>\n",
       "<p>6440 rows × 4 columns</p>\n",
       "</div>"
      ],
      "text/plain": [
       "                                                  title         views  \\\n",
       "0            #184 making a pcb using easyeda. // review  3.237000e+03   \n",
       "1            #23 feed the homeless | one list, one life  4.025333e+04   \n",
       "2                             #57: am and ssb explained  3.489500e+03   \n",
       "3     #abovethenoise feat. serena williams, neymar j...  2.152261e+06   \n",
       "4                 #boogiedown contest winners announced  3.787939e+06   \n",
       "...                                                 ...           ...   \n",
       "6435          힐링쿠킹♥ 빙글빙글 회오리젤리 만들기! - ari kitchen(아리키친)  2.801898e+05   \n",
       "6436              🍒 april favs 🍒 (music, clothes, life)  1.452812e+05   \n",
       "6437    🍫달콤 쌉사름~ 리얼 초콜릿 우유 만들기 real chocolate milk | 한세  1.563886e+05   \n",
       "6438                 🎃 how to make pumpkin pie mistakes  1.533730e+05   \n",
       "6439                             😱 $1,145 iphone case!!  6.055387e+05   \n",
       "\n",
       "      views_log  views_norm  \n",
       "0      8.080000    0.136997  \n",
       "1     10.600000    0.332043  \n",
       "2      8.157500    0.142995  \n",
       "3     14.580000    0.640093  \n",
       "4     15.128889    0.682577  \n",
       "...         ...         ...  \n",
       "6435  12.537500    0.482005  \n",
       "6436  11.883750    0.431405  \n",
       "6437  11.928571    0.434874  \n",
       "6438  11.905000    0.433050  \n",
       "6439  13.283333    0.539732  \n",
       "\n",
       "[6440 rows x 4 columns]"
      ]
     },
     "execution_count": 64,
     "metadata": {},
     "output_type": "execute_result"
    }
   ],
   "source": [
    "# although there are 40949 rows but only 6440 unique titles; therefore, we decided to groupby the data based on the titles\n",
    "# and calculate the means of views_norm\n",
    "df = df.groupby(['title']).mean().reset_index()\n",
    "df"
   ]
  },
  {
   "cell_type": "code",
   "execution_count": 65,
   "metadata": {},
   "outputs": [],
   "source": [
    "# we defined a function to remove emojis and non-English languages (it's not perfect but it still helps as preprocessing)\n",
    "# Reference : https://gist.github.com/slowkow/7a7f61f495e3dbb7e3d767f97bd7304b\n",
    "def remove_emoji(string):\n",
    "    emoji_pattern = re.compile(\"[\"\n",
    "                           u\"\\U0001F600-\\U0001F64F\"  # emoticons\n",
    "                           u\"\\U0001F300-\\U0001F5FF\"  # symbols & pictographs\n",
    "                           u\"\\U0001F680-\\U0001F6FF\"  # transport & map symbols\n",
    "                           u\"\\U0001F1E0-\\U0001F1FF\"  # flags (iOS)\n",
    "                           u\"\\U00002702-\\U000027B0\"\n",
    "                           u\"\\U000024C2-\\U0001F251\"\n",
    "                           \"]+\", flags=re.UNICODE)\n",
    "    return emoji_pattern.sub(r'', string)"
   ]
  },
  {
   "cell_type": "code",
   "execution_count": 66,
   "metadata": {},
   "outputs": [
    {
     "data": {
      "text/html": [
       "<div>\n",
       "<style scoped>\n",
       "    .dataframe tbody tr th:only-of-type {\n",
       "        vertical-align: middle;\n",
       "    }\n",
       "\n",
       "    .dataframe tbody tr th {\n",
       "        vertical-align: top;\n",
       "    }\n",
       "\n",
       "    .dataframe thead th {\n",
       "        text-align: right;\n",
       "    }\n",
       "</style>\n",
       "<table border=\"1\" class=\"dataframe\">\n",
       "  <thead>\n",
       "    <tr style=\"text-align: right;\">\n",
       "      <th></th>\n",
       "      <th>title</th>\n",
       "      <th>views</th>\n",
       "      <th>views_log</th>\n",
       "      <th>views_norm</th>\n",
       "    </tr>\n",
       "  </thead>\n",
       "  <tbody>\n",
       "    <tr>\n",
       "      <th>0</th>\n",
       "      <td>#184 making a pcb using easyeda. // review</td>\n",
       "      <td>3.237000e+03</td>\n",
       "      <td>8.080000</td>\n",
       "      <td>0.136997</td>\n",
       "    </tr>\n",
       "    <tr>\n",
       "      <th>1</th>\n",
       "      <td>#23 feed the homeless | one list, one life</td>\n",
       "      <td>4.025333e+04</td>\n",
       "      <td>10.600000</td>\n",
       "      <td>0.332043</td>\n",
       "    </tr>\n",
       "    <tr>\n",
       "      <th>2</th>\n",
       "      <td>#57: am and ssb explained</td>\n",
       "      <td>3.489500e+03</td>\n",
       "      <td>8.157500</td>\n",
       "      <td>0.142995</td>\n",
       "    </tr>\n",
       "    <tr>\n",
       "      <th>3</th>\n",
       "      <td>#abovethenoise feat. serena williams, neymar j...</td>\n",
       "      <td>2.152261e+06</td>\n",
       "      <td>14.580000</td>\n",
       "      <td>0.640093</td>\n",
       "    </tr>\n",
       "    <tr>\n",
       "      <th>4</th>\n",
       "      <td>#boogiedown contest winners announced</td>\n",
       "      <td>3.787939e+06</td>\n",
       "      <td>15.128889</td>\n",
       "      <td>0.682577</td>\n",
       "    </tr>\n",
       "    <tr>\n",
       "      <th>...</th>\n",
       "      <td>...</td>\n",
       "      <td>...</td>\n",
       "      <td>...</td>\n",
       "      <td>...</td>\n",
       "    </tr>\n",
       "    <tr>\n",
       "      <th>6435</th>\n",
       "      <td>! - ari kitchen()</td>\n",
       "      <td>2.801898e+05</td>\n",
       "      <td>12.537500</td>\n",
       "      <td>0.482005</td>\n",
       "    </tr>\n",
       "    <tr>\n",
       "      <th>6436</th>\n",
       "      <td>april favs  (music, clothes, life)</td>\n",
       "      <td>1.452812e+05</td>\n",
       "      <td>11.883750</td>\n",
       "      <td>0.431405</td>\n",
       "    </tr>\n",
       "    <tr>\n",
       "      <th>6437</th>\n",
       "      <td>~     real chocolate milk |</td>\n",
       "      <td>1.563886e+05</td>\n",
       "      <td>11.928571</td>\n",
       "      <td>0.434874</td>\n",
       "    </tr>\n",
       "    <tr>\n",
       "      <th>6438</th>\n",
       "      <td>how to make pumpkin pie mistakes</td>\n",
       "      <td>1.533730e+05</td>\n",
       "      <td>11.905000</td>\n",
       "      <td>0.433050</td>\n",
       "    </tr>\n",
       "    <tr>\n",
       "      <th>6439</th>\n",
       "      <td>$1,145 iphone case!!</td>\n",
       "      <td>6.055387e+05</td>\n",
       "      <td>13.283333</td>\n",
       "      <td>0.539732</td>\n",
       "    </tr>\n",
       "  </tbody>\n",
       "</table>\n",
       "<p>6440 rows × 4 columns</p>\n",
       "</div>"
      ],
      "text/plain": [
       "                                                  title         views  \\\n",
       "0            #184 making a pcb using easyeda. // review  3.237000e+03   \n",
       "1            #23 feed the homeless | one list, one life  4.025333e+04   \n",
       "2                             #57: am and ssb explained  3.489500e+03   \n",
       "3     #abovethenoise feat. serena williams, neymar j...  2.152261e+06   \n",
       "4                 #boogiedown contest winners announced  3.787939e+06   \n",
       "...                                                 ...           ...   \n",
       "6435                                  ! - ari kitchen()  2.801898e+05   \n",
       "6436                 april favs  (music, clothes, life)  1.452812e+05   \n",
       "6437                       ~     real chocolate milk |   1.563886e+05   \n",
       "6438                   how to make pumpkin pie mistakes  1.533730e+05   \n",
       "6439                               $1,145 iphone case!!  6.055387e+05   \n",
       "\n",
       "      views_log  views_norm  \n",
       "0      8.080000    0.136997  \n",
       "1     10.600000    0.332043  \n",
       "2      8.157500    0.142995  \n",
       "3     14.580000    0.640093  \n",
       "4     15.128889    0.682577  \n",
       "...         ...         ...  \n",
       "6435  12.537500    0.482005  \n",
       "6436  11.883750    0.431405  \n",
       "6437  11.928571    0.434874  \n",
       "6438  11.905000    0.433050  \n",
       "6439  13.283333    0.539732  \n",
       "\n",
       "[6440 rows x 4 columns]"
      ]
     },
     "execution_count": 66,
     "metadata": {},
     "output_type": "execute_result"
    }
   ],
   "source": [
    "df.title = df.title.apply(lambda text: remove_emoji(text))\n",
    "df"
   ]
  },
  {
   "cell_type": "markdown",
   "metadata": {},
   "source": [
    "**Most viewed videos:** \n",
    "Here we inspected the most_viewed videos in this dataset and found out that most of them are music videos of famous singers or bands, such as Childish Gambino, TWICE etc. It is good to know the type of the extreme values so as to infer a more probable outcome at the end."
   ]
  },
  {
   "cell_type": "code",
   "execution_count": 67,
   "metadata": {},
   "outputs": [
    {
     "data": {
      "text/html": [
       "<div>\n",
       "<style scoped>\n",
       "    .dataframe tbody tr th:only-of-type {\n",
       "        vertical-align: middle;\n",
       "    }\n",
       "\n",
       "    .dataframe tbody tr th {\n",
       "        vertical-align: top;\n",
       "    }\n",
       "\n",
       "    .dataframe thead th {\n",
       "        text-align: right;\n",
       "    }\n",
       "</style>\n",
       "<table border=\"1\" class=\"dataframe\">\n",
       "  <thead>\n",
       "    <tr style=\"text-align: right;\">\n",
       "      <th></th>\n",
       "      <th>title</th>\n",
       "      <th>views</th>\n",
       "      <th>views_log</th>\n",
       "      <th>views_norm</th>\n",
       "    </tr>\n",
       "  </thead>\n",
       "  <tbody>\n",
       "    <tr>\n",
       "      <th>1102</th>\n",
       "      <td>childish gambino - this is america (official v...</td>\n",
       "      <td>1.503396e+08</td>\n",
       "      <td>18.724800</td>\n",
       "      <td>0.960898</td>\n",
       "    </tr>\n",
       "    <tr>\n",
       "      <th>878</th>\n",
       "      <td>bts () 'fake love' official mv</td>\n",
       "      <td>9.165631e+07</td>\n",
       "      <td>18.293571</td>\n",
       "      <td>0.927521</td>\n",
       "    </tr>\n",
       "    <tr>\n",
       "      <th>6371</th>\n",
       "      <td>youtube rewind: the shape of 2017 | #youtubere...</td>\n",
       "      <td>9.760013e+07</td>\n",
       "      <td>18.268750</td>\n",
       "      <td>0.925600</td>\n",
       "    </tr>\n",
       "    <tr>\n",
       "      <th>3649</th>\n",
       "      <td>marvel studios' avengers: infinity war officia...</td>\n",
       "      <td>7.438727e+07</td>\n",
       "      <td>18.092222</td>\n",
       "      <td>0.911937</td>\n",
       "    </tr>\n",
       "    <tr>\n",
       "      <th>3582</th>\n",
       "      <td>maluma - el préstamo (official video)</td>\n",
       "      <td>6.800549e+07</td>\n",
       "      <td>18.019091</td>\n",
       "      <td>0.906276</td>\n",
       "    </tr>\n",
       "    <tr>\n",
       "      <th>566</th>\n",
       "      <td>ariana grande - no tears left to cry</td>\n",
       "      <td>7.646457e+07</td>\n",
       "      <td>18.016500</td>\n",
       "      <td>0.906076</td>\n",
       "    </tr>\n",
       "    <tr>\n",
       "      <th>5802</th>\n",
       "      <td>twice what is love? m/v</td>\n",
       "      <td>5.530861e+07</td>\n",
       "      <td>17.813571</td>\n",
       "      <td>0.890369</td>\n",
       "    </tr>\n",
       "    <tr>\n",
       "      <th>5876</th>\n",
       "      <td>venom - official trailer (hd)</td>\n",
       "      <td>5.279743e+07</td>\n",
       "      <td>17.769474</td>\n",
       "      <td>0.886956</td>\n",
       "    </tr>\n",
       "    <tr>\n",
       "      <th>1000</th>\n",
       "      <td>cardi b, bad bunny &amp; j balvin - i like it [off...</td>\n",
       "      <td>5.603490e+07</td>\n",
       "      <td>17.686875</td>\n",
       "      <td>0.880563</td>\n",
       "    </tr>\n",
       "    <tr>\n",
       "      <th>662</th>\n",
       "      <td>becky g, natti natasha - sin pijama (official ...</td>\n",
       "      <td>5.914856e+07</td>\n",
       "      <td>17.673500</td>\n",
       "      <td>0.879528</td>\n",
       "    </tr>\n",
       "  </tbody>\n",
       "</table>\n",
       "</div>"
      ],
      "text/plain": [
       "                                                  title         views  \\\n",
       "1102  childish gambino - this is america (official v...  1.503396e+08   \n",
       "878                      bts () 'fake love' official mv  9.165631e+07   \n",
       "6371  youtube rewind: the shape of 2017 | #youtubere...  9.760013e+07   \n",
       "3649  marvel studios' avengers: infinity war officia...  7.438727e+07   \n",
       "3582              maluma - el préstamo (official video)  6.800549e+07   \n",
       "566                ariana grande - no tears left to cry  7.646457e+07   \n",
       "5802                            twice what is love? m/v  5.530861e+07   \n",
       "5876                      venom - official trailer (hd)  5.279743e+07   \n",
       "1000  cardi b, bad bunny & j balvin - i like it [off...  5.603490e+07   \n",
       "662   becky g, natti natasha - sin pijama (official ...  5.914856e+07   \n",
       "\n",
       "      views_log  views_norm  \n",
       "1102  18.724800    0.960898  \n",
       "878   18.293571    0.927521  \n",
       "6371  18.268750    0.925600  \n",
       "3649  18.092222    0.911937  \n",
       "3582  18.019091    0.906276  \n",
       "566   18.016500    0.906076  \n",
       "5802  17.813571    0.890369  \n",
       "5876  17.769474    0.886956  \n",
       "1000  17.686875    0.880563  \n",
       "662   17.673500    0.879528  "
      ]
     },
     "execution_count": 67,
     "metadata": {},
     "output_type": "execute_result"
    }
   ],
   "source": [
    "most_viewed = df.sort_values(by=['views_norm'], ascending=False).head(10)\n",
    "most_viewed"
   ]
  },
  {
   "cell_type": "code",
   "execution_count": 68,
   "metadata": {},
   "outputs": [
    {
     "data": {
      "text/html": [
       "<div>\n",
       "<style scoped>\n",
       "    .dataframe tbody tr th:only-of-type {\n",
       "        vertical-align: middle;\n",
       "    }\n",
       "\n",
       "    .dataframe tbody tr th {\n",
       "        vertical-align: top;\n",
       "    }\n",
       "\n",
       "    .dataframe thead th {\n",
       "        text-align: right;\n",
       "    }\n",
       "</style>\n",
       "<table border=\"1\" class=\"dataframe\">\n",
       "  <thead>\n",
       "    <tr style=\"text-align: right;\">\n",
       "      <th></th>\n",
       "      <th>title</th>\n",
       "      <th>views</th>\n",
       "      <th>views_log</th>\n",
       "      <th>views_norm</th>\n",
       "    </tr>\n",
       "  </thead>\n",
       "  <tbody>\n",
       "    <tr>\n",
       "      <th>74</th>\n",
       "      <td>1 dead, others injured after ky. school shooting</td>\n",
       "      <td>554.000000</td>\n",
       "      <td>6.320000</td>\n",
       "      <td>0.000774</td>\n",
       "    </tr>\n",
       "    <tr>\n",
       "      <th>1192</th>\n",
       "      <td>coach taggart monday presser ahead of arizona</td>\n",
       "      <td>695.500000</td>\n",
       "      <td>6.545000</td>\n",
       "      <td>0.018189</td>\n",
       "    </tr>\n",
       "    <tr>\n",
       "      <th>580</th>\n",
       "      <td>artwork forge</td>\n",
       "      <td>705.333333</td>\n",
       "      <td>6.556667</td>\n",
       "      <td>0.019092</td>\n",
       "    </tr>\n",
       "    <tr>\n",
       "      <th>4417</th>\n",
       "      <td>raw: 3 south carolina deputies, 1 officer shot</td>\n",
       "      <td>748.000000</td>\n",
       "      <td>6.620000</td>\n",
       "      <td>0.023994</td>\n",
       "    </tr>\n",
       "    <tr>\n",
       "      <th>2555</th>\n",
       "      <td>huffy metaloid bicycle commercial 1997</td>\n",
       "      <td>773.000000</td>\n",
       "      <td>6.650000</td>\n",
       "      <td>0.026316</td>\n",
       "    </tr>\n",
       "    <tr>\n",
       "      <th>632</th>\n",
       "      <td>bannon arrives to testify on capitol hill</td>\n",
       "      <td>821.666667</td>\n",
       "      <td>6.713333</td>\n",
       "      <td>0.031218</td>\n",
       "    </tr>\n",
       "    <tr>\n",
       "      <th>4111</th>\n",
       "      <td>ojo commuter scooter®- light electric vehicle ...</td>\n",
       "      <td>853.000000</td>\n",
       "      <td>6.745000</td>\n",
       "      <td>0.033669</td>\n",
       "    </tr>\n",
       "    <tr>\n",
       "      <th>5858</th>\n",
       "      <td>ur eeoc complainants press conference (5pm jan...</td>\n",
       "      <td>943.250000</td>\n",
       "      <td>6.852500</td>\n",
       "      <td>0.041989</td>\n",
       "    </tr>\n",
       "    <tr>\n",
       "      <th>3065</th>\n",
       "      <td>john thrasher: jimbo's here forever</td>\n",
       "      <td>983.666667</td>\n",
       "      <td>6.893333</td>\n",
       "      <td>0.045150</td>\n",
       "    </tr>\n",
       "    <tr>\n",
       "      <th>2028</th>\n",
       "      <td>gas mask scene | kong: skull island (2017)</td>\n",
       "      <td>1017.666667</td>\n",
       "      <td>6.926667</td>\n",
       "      <td>0.047730</td>\n",
       "    </tr>\n",
       "  </tbody>\n",
       "</table>\n",
       "</div>"
      ],
      "text/plain": [
       "                                                  title        views  \\\n",
       "74     1 dead, others injured after ky. school shooting   554.000000   \n",
       "1192      coach taggart monday presser ahead of arizona   695.500000   \n",
       "580                                       artwork forge   705.333333   \n",
       "4417     raw: 3 south carolina deputies, 1 officer shot   748.000000   \n",
       "2555             huffy metaloid bicycle commercial 1997   773.000000   \n",
       "632           bannon arrives to testify on capitol hill   821.666667   \n",
       "4111  ojo commuter scooter®- light electric vehicle ...   853.000000   \n",
       "5858  ur eeoc complainants press conference (5pm jan...   943.250000   \n",
       "3065                john thrasher: jimbo's here forever   983.666667   \n",
       "2028         gas mask scene | kong: skull island (2017)  1017.666667   \n",
       "\n",
       "      views_log  views_norm  \n",
       "74     6.320000    0.000774  \n",
       "1192   6.545000    0.018189  \n",
       "580    6.556667    0.019092  \n",
       "4417   6.620000    0.023994  \n",
       "2555   6.650000    0.026316  \n",
       "632    6.713333    0.031218  \n",
       "4111   6.745000    0.033669  \n",
       "5858   6.852500    0.041989  \n",
       "3065   6.893333    0.045150  \n",
       "2028   6.926667    0.047730  "
      ]
     },
     "execution_count": 68,
     "metadata": {},
     "output_type": "execute_result"
    }
   ],
   "source": [
    "least_viewed = df.sort_values(by=['views_norm'], ascending=True).head(10)\n",
    "least_viewed"
   ]
  },
  {
   "cell_type": "code",
   "execution_count": 71,
   "metadata": {},
   "outputs": [],
   "source": [
    "# turn dataframe into list for tokenization\n",
    "titles = df['title'].values.tolist()\n",
    "views = df['views_norm'].values.tolist()\n",
    "\n",
    "# A commonly used ratio is 80:20 for data splitting - 80% of the dataset as training data, 10% as validation data and the rest as testing data. \n",
    "training_samples = round(len(titles) * 0.8)\n",
    "val_samples = round(len(titles) * 0.1)\n",
    "test_samples = len(titles) - training_samples - val_samples"
   ]
  },
  {
   "cell_type": "code",
   "execution_count": 72,
   "metadata": {
    "tags": []
   },
   "outputs": [
    {
     "name": "stdout",
     "output_type": "stream",
     "text": [
      "Found 11007 unique tokens.\n"
     ]
    }
   ],
   "source": [
    "tokenizer = Tokenizer(num_words=10000,  filters='!\"#$%&()*+,-./:;<=>?@[\\\\]^_`{|}~\\t\\n')\n",
    "tokenizer.fit_on_texts(titles)  #list\n",
    "sequences = tokenizer.texts_to_sequences(titles)\n",
    "padded_data = pad_sequences(sequences, maxlen=max_length) #length of the longest title\n",
    "\n",
    "word_index = tokenizer.word_index\n",
    "print('Found %s unique tokens.' % len(word_index))"
   ]
  },
  {
   "cell_type": "code",
   "execution_count": 73,
   "metadata": {},
   "outputs": [],
   "source": [
    "y = df.views_norm"
   ]
  },
  {
   "cell_type": "code",
   "execution_count": 74,
   "metadata": {},
   "outputs": [
    {
     "name": "stdout",
     "output_type": "stream",
     "text": [
      "Shape of data tensor: (6440, 23)\n",
      "Shape of views_norm tensor: (6440,)\n"
     ]
    }
   ],
   "source": [
    "# convert views to np array and check the shape of views_norm tensor\n",
    "labels = np.asarray(y)\n",
    "\n",
    "print('Shape of data tensor:', padded_data.shape)\n",
    "print('Shape of views_norm tensor:', labels.shape) # one arbitrary value\n"
   ]
  },
  {
   "cell_type": "code",
   "execution_count": 75,
   "metadata": {},
   "outputs": [],
   "source": [
    "# shuffle data\n",
    "indices = np.arange(padded_data.shape[0])\n",
    "np.random.shuffle(indices)"
   ]
  },
  {
   "cell_type": "code",
   "execution_count": 76,
   "metadata": {},
   "outputs": [],
   "source": [
    "padded_data = padded_data[indices]\n",
    "views = labels[indices]\n",
    "\n",
    "x_train = padded_data[:training_samples]\n",
    "y_train = views[:training_samples]\n",
    "x_val = padded_data[training_samples: training_samples + val_samples]\n",
    "y_val = views[training_samples: training_samples + val_samples]\n",
    "x_test = padded_data[training_samples + val_samples:]\n",
    "y_test = views[training_samples + val_samples:]"
   ]
  },
  {
   "cell_type": "code",
   "execution_count": 77,
   "metadata": {
    "tags": []
   },
   "outputs": [
    {
     "data": {
      "text/plain": [
       "(5152, 23)"
      ]
     },
     "execution_count": 77,
     "metadata": {},
     "output_type": "execute_result"
    }
   ],
   "source": [
    "x_train.shape"
   ]
  },
  {
   "cell_type": "code",
   "execution_count": 78,
   "metadata": {
    "tags": []
   },
   "outputs": [
    {
     "data": {
      "text/plain": [
       "(644, 23)"
      ]
     },
     "execution_count": 78,
     "metadata": {},
     "output_type": "execute_result"
    }
   ],
   "source": [
    "x_test.shape"
   ]
  },
  {
   "cell_type": "code",
   "execution_count": 79,
   "metadata": {
    "tags": []
   },
   "outputs": [
    {
     "data": {
      "text/plain": [
       "(644, 23)"
      ]
     },
     "execution_count": 79,
     "metadata": {},
     "output_type": "execute_result"
    }
   ],
   "source": [
    "x_val.shape"
   ]
  },
  {
   "cell_type": "markdown",
   "metadata": {},
   "source": [
    "## Part 2\n",
    "### 2.1 Build Glove Word Embeddings\n",
    "\n",
    "GloVe is a word embedding technique that doesn’t only rely on local statistics but also global word statistics (word co-occurrence). GloVe assumes that you can derive relationships between words from a co-occurrence matrix. Here we take glove.6B.200d which was collected by wikepedia and English Gigaword 5th edition."
   ]
  },
  {
   "cell_type": "code",
   "execution_count": 80,
   "metadata": {},
   "outputs": [
    {
     "name": "stdout",
     "output_type": "stream",
     "text": [
      "Found 400000 word vectors.\n",
      "(200,)\n"
     ]
    }
   ],
   "source": [
    "#define path to embeddings\n",
    "glove_dir = '/compLing/students/courses/deepLearning/glove.6B/glove.6B.200d.txt'\n",
    "\n",
    "# read embeddings and go through each line in the file\n",
    "embeddings_index = {}\n",
    "f = open(glove_dir) # 200 dimensions\n",
    "for line in f:\n",
    "    values = line.split()\n",
    "    word = values[0]\n",
    "    coefs = np.asarray(values[1:], dtype='float32')\n",
    "    embeddings_index[word] = coefs\n",
    "f.close()\n",
    "\n",
    "print('Found %s word vectors.' % len(embeddings_index))\n",
    "print(coefs.shape)"
   ]
  },
  {
   "cell_type": "code",
   "execution_count": 81,
   "metadata": {},
   "outputs": [],
   "source": [
    "# build an embedding matrix that will be able to load into an Embedding layer\n",
    "# each entry i contains the embedding_dim-dimensional vector for the word of index i in our reference word index (built during tokenization).\n",
    "embedding_dim = 200\n",
    "max_words = len(word_index)+1\n",
    "\n",
    "embedding_matrix = np.zeros((max_words, embedding_dim))\n",
    "for word, i in word_index.items():\n",
    "    embedding_vector = embeddings_index.get(word)\n",
    "    if i < max_words:\n",
    "        if embedding_vector is not None:\n",
    "            # Words not found in embedding index will be all-zeros.\n",
    "            embedding_matrix[i] = embedding_vector"
   ]
  },
  {
   "cell_type": "markdown",
   "metadata": {},
   "source": [
    "### 2.2 Model Setup, Training and Testing\n",
    "\n",
    "**First model: Regression Model - ReLU (Baseline for Neural Network)**\n",
    "\n",
    "We created an embedding matrix for these words using vectors from the loaded Glove embedding and passed this matrix as weights to the embedding layer of our sequential model. Next, we added a flatten layer and a dense layer with Rectified Linear Unit (ReLU) as the activation function. ReLU is defined as the maximum between zero and the input. This forces non-linearity on the output of neurons in a neural network. For the final layer, we added another dense layer with sigmoid as the activation function."
   ]
  },
  {
   "cell_type": "code",
   "execution_count": 121,
   "metadata": {},
   "outputs": [
    {
     "name": "stdout",
     "output_type": "stream",
     "text": [
      "Model: \"sequential_11\"\n",
      "_________________________________________________________________\n",
      " Layer (type)                Output Shape              Param #   \n",
      "=================================================================\n",
      " embedding_11 (Embedding)    (None, 23, 200)           2201600   \n",
      "                                                                 \n",
      " flatten_2 (Flatten)         (None, 4600)              0         \n",
      "                                                                 \n",
      " dense_21 (Dense)            (None, 32)                147232    \n",
      "                                                                 \n",
      " dense_22 (Dense)            (None, 1)                 33        \n",
      "                                                                 \n",
      "=================================================================\n",
      "Total params: 2,348,865\n",
      "Trainable params: 147,265\n",
      "Non-trainable params: 2,201,600\n",
      "_________________________________________________________________\n"
     ]
    }
   ],
   "source": [
    "# a sequential model is instantiated \n",
    "model = Sequential()\n",
    "\n",
    "# define input layer where embeddings are fed in\n",
    "model.add(Embedding(input_dim=max_words, output_dim=embedding_dim, input_length=max_length, weights=[embedding_matrix], trainable=False))\n",
    "\n",
    "# add a flatten layer\n",
    "model.add(Flatten())\n",
    "\n",
    "# add a dense layer with relu activation function\n",
    "model.add(layers.Dense(32, activation='relu'))\n",
    "\n",
    "# define outpuy layer with sigmoid activation function because it's regression problem\n",
    "# parameter 1 is because there is only one arbitrary value each interation\n",
    "model.add(Dense(1, activation='sigmoid'))\n",
    "model.summary()"
   ]
  },
  {
   "cell_type": "code",
   "execution_count": 122,
   "metadata": {},
   "outputs": [],
   "source": [
    "# Load the GloVe embeddings in the model\n",
    "model.layers[0].set_weights([embedding_matrix])\n",
    "\n",
    "# freeze the embedding layers\n",
    "model.layers[0].trainable = False"
   ]
  },
  {
   "cell_type": "code",
   "execution_count": 123,
   "metadata": {},
   "outputs": [
    {
     "name": "stdout",
     "output_type": "stream",
     "text": [
      "Epoch 1/10\n",
      "161/161 [==============================] - 1s 3ms/step - loss: 0.0189 - mae: 0.1066 - val_loss: 0.0186 - val_mae: 0.1034\n",
      "Epoch 2/10\n",
      "161/161 [==============================] - 0s 2ms/step - loss: 0.0124 - mae: 0.0856 - val_loss: 0.0193 - val_mae: 0.1052\n",
      "Epoch 3/10\n",
      "161/161 [==============================] - 0s 2ms/step - loss: 0.0084 - mae: 0.0691 - val_loss: 0.0204 - val_mae: 0.1102\n",
      "Epoch 4/10\n",
      "161/161 [==============================] - 0s 2ms/step - loss: 0.0056 - mae: 0.0555 - val_loss: 0.0225 - val_mae: 0.1142\n",
      "Epoch 5/10\n",
      "161/161 [==============================] - 0s 2ms/step - loss: 0.0039 - mae: 0.0456 - val_loss: 0.0220 - val_mae: 0.1152\n",
      "Epoch 6/10\n",
      "161/161 [==============================] - 0s 2ms/step - loss: 0.0028 - mae: 0.0388 - val_loss: 0.0229 - val_mae: 0.1192\n",
      "Epoch 7/10\n",
      "161/161 [==============================] - 0s 2ms/step - loss: 0.0021 - mae: 0.0338 - val_loss: 0.0228 - val_mae: 0.1180\n",
      "Epoch 8/10\n",
      "161/161 [==============================] - 0s 2ms/step - loss: 0.0018 - mae: 0.0308 - val_loss: 0.0228 - val_mae: 0.1181\n",
      "Epoch 9/10\n",
      "161/161 [==============================] - 0s 2ms/step - loss: 0.0015 - mae: 0.0279 - val_loss: 0.0239 - val_mae: 0.1217\n",
      "Epoch 10/10\n",
      "161/161 [==============================] - 0s 2ms/step - loss: 0.0013 - mae: 0.0256 - val_loss: 0.0231 - val_mae: 0.1174\n"
     ]
    }
   ],
   "source": [
    "# train and evaluate the model\n",
    "model.compile(optimizer='rmsprop',\n",
    "              loss='mse', # mean square error is a common option for regression probelm\n",
    "              metrics=['mae']) # mean absolute error is calculated during training and evaluation, but are not used to optimize the model, it's also common for regression problem\n",
    "\n",
    "history = model.fit(x_train, y_train,\n",
    "                    epochs=10,\n",
    "                    batch_size=32,\n",
    "                    validation_data=(x_val, y_val))"
   ]
  },
  {
   "cell_type": "code",
   "execution_count": 124,
   "metadata": {},
   "outputs": [
    {
     "name": "stdout",
     "output_type": "stream",
     "text": [
      "21/21 [==============================] - 0s 1ms/step - loss: 0.0200 - mae: 0.1094\n"
     ]
    },
    {
     "data": {
      "text/plain": [
       "[0.01998577080667019, 0.10941171646118164]"
      ]
     },
     "execution_count": 124,
     "metadata": {},
     "output_type": "execute_result"
    }
   ],
   "source": [
    "model.evaluate(x_test,y_test)"
   ]
  },
  {
   "cell_type": "code",
   "execution_count": 125,
   "metadata": {},
   "outputs": [
    {
     "data": {
      "image/png": "[encoded data removed]",
      "text/plain": [
       "<Figure size 640x480 with 1 Axes>"
      ]
     },
     "metadata": {},
     "output_type": "display_data"
    }
   ],
   "source": [
    "loss = history.history['loss']\n",
    "val_loss = history.history['val_loss']\n",
    "\n",
    "epochs = range(1, len(loss) + 1)\n",
    "\n",
    "plt.plot(epochs, loss, 'bo', label='Training loss')\n",
    "plt.plot(epochs, val_loss, 'b', label='Validation loss')\n",
    "plt.title('Training and validation loss')\n",
    "plt.xlabel('Epochs')\n",
    "plt.ylabel('Loss')\n",
    "plt.legend()\n",
    "\n",
    "plt.show()"
   ]
  },
  {
   "cell_type": "markdown",
   "metadata": {},
   "source": [
    "### 3. Experimentation"
   ]
  },
  {
   "cell_type": "markdown",
   "metadata": {},
   "source": [
    "- **Second model** is constituted of an embedding layer, a LSTM layer, and a Dense layer, with a final output layer that uses a sigmoid activation function to predict a single continuous value."
   ]
  },
  {
   "cell_type": "code",
   "execution_count": 126,
   "metadata": {},
   "outputs": [
    {
     "name": "stdout",
     "output_type": "stream",
     "text": [
      "Model: \"sequential_12\"\n",
      "_________________________________________________________________\n",
      " Layer (type)                Output Shape              Param #   \n",
      "=================================================================\n",
      " embedding_12 (Embedding)    (None, 23, 200)           2201600   \n",
      "                                                                 \n",
      " lstm_14 (LSTM)              (None, 64)                67840     \n",
      "                                                                 \n",
      " dense_23 (Dense)            (None, 32)                2080      \n",
      "                                                                 \n",
      " dense_24 (Dense)            (None, 1)                 33        \n",
      "                                                                 \n",
      "=================================================================\n",
      "Total params: 2,271,553\n",
      "Trainable params: 2,271,553\n",
      "Non-trainable params: 0\n",
      "_________________________________________________________________\n"
     ]
    }
   ],
   "source": [
    "# a sequential model is instantiated \n",
    "model2 = Sequential()\n",
    "\n",
    "# define input layer where embeddings are fed in\n",
    "model2.add(Embedding(max_words, embedding_dim, input_length=max_length))\n",
    "\n",
    "# add a LSTM layer with 64 units\n",
    "model2.add(LSTM(64))\n",
    "\n",
    "# add a dense layer \n",
    "model2.add(layers.Dense(32, activation='relu'))\n",
    "\n",
    "# define outpuy layer with sigmoid activation function because it's regression problem\n",
    "# parameter 1 is because there is only one arbitrary value each interation\n",
    "model2.add(Dense(1, activation='sigmoid'))\n",
    "model2.summary()"
   ]
  },
  {
   "cell_type": "code",
   "execution_count": 127,
   "metadata": {},
   "outputs": [],
   "source": [
    "# Load the GloVe embeddings in the model\n",
    "model2.layers[0].set_weights([embedding_matrix])\n",
    "\n",
    "# freeze the embedding layers\n",
    "model2.layers[0].trainable = False"
   ]
  },
  {
   "cell_type": "code",
   "execution_count": 128,
   "metadata": {},
   "outputs": [
    {
     "name": "stdout",
     "output_type": "stream",
     "text": [
      "Epoch 1/10\n",
      "161/161 [==============================] - 3s 13ms/step - loss: 0.0181 - mae: 0.1050 - val_loss: 0.0186 - val_mae: 0.1051\n",
      "Epoch 2/10\n",
      "161/161 [==============================] - 2s 11ms/step - loss: 0.0166 - mae: 0.1007 - val_loss: 0.0182 - val_mae: 0.1039\n",
      "Epoch 3/10\n",
      "161/161 [==============================] - 2s 11ms/step - loss: 0.0156 - mae: 0.0976 - val_loss: 0.0182 - val_mae: 0.1039\n",
      "Epoch 4/10\n",
      "161/161 [==============================] - 2s 11ms/step - loss: 0.0147 - mae: 0.0945 - val_loss: 0.0177 - val_mae: 0.1016\n",
      "Epoch 5/10\n",
      "161/161 [==============================] - 2s 12ms/step - loss: 0.0138 - mae: 0.0915 - val_loss: 0.0177 - val_mae: 0.1033\n",
      "Epoch 6/10\n",
      "161/161 [==============================] - 2s 11ms/step - loss: 0.0130 - mae: 0.0885 - val_loss: 0.0180 - val_mae: 0.1028\n",
      "Epoch 7/10\n",
      "161/161 [==============================] - 2s 11ms/step - loss: 0.0123 - mae: 0.0860 - val_loss: 0.0186 - val_mae: 0.1041\n",
      "Epoch 8/10\n",
      "161/161 [==============================] - 2s 11ms/step - loss: 0.0114 - mae: 0.0828 - val_loss: 0.0185 - val_mae: 0.1046\n",
      "Epoch 9/10\n",
      "161/161 [==============================] - 2s 11ms/step - loss: 0.0106 - mae: 0.0802 - val_loss: 0.0189 - val_mae: 0.1058\n",
      "Epoch 10/10\n",
      "161/161 [==============================] - 2s 11ms/step - loss: 0.0099 - mae: 0.0771 - val_loss: 0.0184 - val_mae: 0.1052\n"
     ]
    }
   ],
   "source": [
    "# train and evaluate the model\n",
    "model2.compile(optimizer='rmsprop',\n",
    "              loss='mse', \n",
    "              metrics=['mae'])\n",
    "\n",
    "history2 = model2.fit(x_train, y_train,\n",
    "                    epochs=10,\n",
    "                    batch_size=32,\n",
    "                    validation_data=(x_val, y_val))"
   ]
  },
  {
   "cell_type": "code",
   "execution_count": 129,
   "metadata": {},
   "outputs": [
    {
     "name": "stdout",
     "output_type": "stream",
     "text": [
      "21/21 [==============================] - 0s 6ms/step - loss: 0.0173 - mae: 0.1020\n"
     ]
    },
    {
     "data": {
      "text/plain": [
       "[0.017323287203907967, 0.10200534760951996]"
      ]
     },
     "execution_count": 129,
     "metadata": {},
     "output_type": "execute_result"
    }
   ],
   "source": [
    "model2.evaluate(x_test,y_test)"
   ]
  },
  {
   "cell_type": "code",
   "execution_count": 130,
   "metadata": {},
   "outputs": [
    {
     "data": {
      "image/png": "[encoded data removed]",
      "text/plain": [
       "<Figure size 640x480 with 1 Axes>"
      ]
     },
     "metadata": {},
     "output_type": "display_data"
    }
   ],
   "source": [
    "loss = history2.history['loss']\n",
    "val_loss = history2.history['val_loss']\n",
    "\n",
    "epochs = range(1, len(loss) + 1)\n",
    "\n",
    "plt.plot(epochs, loss, 'bo', label='Training loss')\n",
    "plt.plot(epochs, val_loss, 'b', label='Validation loss')\n",
    "plt.title('Training and validation loss')\n",
    "plt.xlabel('Epochs')\n",
    "plt.ylabel('Loss')\n",
    "plt.legend()\n",
    "\n",
    "plt.show()"
   ]
  },
  {
   "cell_type": "markdown",
   "metadata": {},
   "source": [
    "- **Third Model** includes an embedding layer, two LSTM layers, and a final output layer that uses a sigmoid activation function."
   ]
  },
  {
   "cell_type": "code",
   "execution_count": 136,
   "metadata": {},
   "outputs": [
    {
     "name": "stdout",
     "output_type": "stream",
     "text": [
      "Model: \"sequential_14\"\n",
      "_________________________________________________________________\n",
      " Layer (type)                Output Shape              Param #   \n",
      "=================================================================\n",
      " embedding_14 (Embedding)    (None, 23, 200)           2201600   \n",
      "                                                                 \n",
      " lstm_17 (LSTM)              (None, 23, 64)            67840     \n",
      "                                                                 \n",
      " lstm_18 (LSTM)              (None, 32)                12416     \n",
      "                                                                 \n",
      " dense_26 (Dense)            (None, 1)                 33        \n",
      "                                                                 \n",
      "=================================================================\n",
      "Total params: 2,281,889\n",
      "Trainable params: 2,281,889\n",
      "Non-trainable params: 0\n",
      "_________________________________________________________________\n"
     ]
    }
   ],
   "source": [
    "# a sequential model is instantiated \n",
    "model3 = Sequential()\n",
    "\n",
    "# define input layer where embeddings are fed in\n",
    "model3.add(Embedding(max_words, embedding_dim, input_length=max_length))\n",
    "\n",
    "# add two LSTM layers with 64 units\n",
    "model3.add(LSTM(64, return_sequences = True))\n",
    "model3.add(LSTM(32))\n",
    "\n",
    "# define outpuy layer with sigmoid activation function because it's regression problem\n",
    "# parameter 1 is because there is only one arbitrary value each interation\n",
    "model3.add(Dense(1, activation='sigmoid'))\n",
    "model3.summary()"
   ]
  },
  {
   "cell_type": "code",
   "execution_count": 137,
   "metadata": {},
   "outputs": [],
   "source": [
    "# Load the GloVe embeddings in the model\n",
    "model3.layers[0].set_weights([embedding_matrix])\n",
    "\n",
    "# freeze the embedding layers\n",
    "model3.layers[0].trainable = False"
   ]
  },
  {
   "cell_type": "code",
   "execution_count": 138,
   "metadata": {},
   "outputs": [
    {
     "name": "stdout",
     "output_type": "stream",
     "text": [
      "Epoch 1/10\n",
      "161/161 [==============================] - 5s 20ms/step - loss: 0.0183 - mae: 0.1052 - val_loss: 0.0187 - val_mae: 0.1069\n",
      "Epoch 2/10\n",
      "161/161 [==============================] - 3s 17ms/step - loss: 0.0172 - mae: 0.1024 - val_loss: 0.0185 - val_mae: 0.1065\n",
      "Epoch 3/10\n",
      "161/161 [==============================] - 3s 16ms/step - loss: 0.0167 - mae: 0.1011 - val_loss: 0.0183 - val_mae: 0.1060\n",
      "Epoch 4/10\n",
      "161/161 [==============================] - 3s 17ms/step - loss: 0.0163 - mae: 0.0998 - val_loss: 0.0185 - val_mae: 0.1056\n",
      "Epoch 5/10\n",
      "161/161 [==============================] - 3s 17ms/step - loss: 0.0159 - mae: 0.0985 - val_loss: 0.0186 - val_mae: 0.1059\n",
      "Epoch 6/10\n",
      "161/161 [==============================] - 3s 17ms/step - loss: 0.0155 - mae: 0.0974 - val_loss: 0.0185 - val_mae: 0.1051\n",
      "Epoch 7/10\n",
      "161/161 [==============================] - 3s 18ms/step - loss: 0.0152 - mae: 0.0962 - val_loss: 0.0186 - val_mae: 0.1057\n",
      "Epoch 8/10\n",
      "161/161 [==============================] - 3s 18ms/step - loss: 0.0148 - mae: 0.0949 - val_loss: 0.0181 - val_mae: 0.1052\n",
      "Epoch 9/10\n",
      "161/161 [==============================] - 3s 18ms/step - loss: 0.0143 - mae: 0.0935 - val_loss: 0.0187 - val_mae: 0.1063\n",
      "Epoch 10/10\n",
      "161/161 [==============================] - 3s 17ms/step - loss: 0.0140 - mae: 0.0920 - val_loss: 0.0192 - val_mae: 0.1079\n"
     ]
    }
   ],
   "source": [
    "# train and evaluate the model\n",
    "model3.compile(optimizer='rmsprop',\n",
    "              loss='mse', \n",
    "              metrics=['mae'])\n",
    "\n",
    "history3 = model3.fit(x_train, y_train,\n",
    "                    epochs=10,\n",
    "                    batch_size=32,\n",
    "                    validation_data=(x_val, y_val))"
   ]
  },
  {
   "cell_type": "code",
   "execution_count": 139,
   "metadata": {},
   "outputs": [
    {
     "name": "stdout",
     "output_type": "stream",
     "text": [
      "21/21 [==============================] - 0s 8ms/step - loss: 0.0176 - mae: 0.1016\n"
     ]
    },
    {
     "data": {
      "text/plain": [
       "[0.01758233830332756, 0.10160604864358902]"
      ]
     },
     "execution_count": 139,
     "metadata": {},
     "output_type": "execute_result"
    }
   ],
   "source": [
    "model3.evaluate(x_test,y_test)"
   ]
  },
  {
   "cell_type": "code",
   "execution_count": 140,
   "metadata": {},
   "outputs": [
    {
     "data": {
      "image/png": "[encoded data removed]",
      "text/plain": [
       "<Figure size 640x480 with 1 Axes>"
      ]
     },
     "metadata": {},
     "output_type": "display_data"
    }
   ],
   "source": [
    "loss = history3.history['loss']\n",
    "val_loss = history3.history['val_loss']\n",
    "\n",
    "epochs = range(1, len(loss) + 1)\n",
    "\n",
    "plt.plot(epochs, loss, 'bo', label='Training loss')\n",
    "plt.plot(epochs, val_loss, 'b', label='Validation loss')\n",
    "plt.title('Training and validation loss')\n",
    "plt.xlabel('Epochs')\n",
    "plt.ylabel('Loss')\n",
    "plt.legend()\n",
    "\n",
    "plt.show()"
   ]
  },
  {
   "cell_type": "markdown",
   "metadata": {},
   "source": [
    "- **The fourth model** contains an Embedding layer, two LSTM layers, a Dense layer, and a final output layer with a sigmoid activation function"
   ]
  },
  {
   "cell_type": "code",
   "execution_count": 141,
   "metadata": {},
   "outputs": [
    {
     "name": "stdout",
     "output_type": "stream",
     "text": [
      "Model: \"sequential_15\"\n",
      "_________________________________________________________________\n",
      " Layer (type)                Output Shape              Param #   \n",
      "=================================================================\n",
      " embedding_15 (Embedding)    (None, 23, 200)           2201600   \n",
      "                                                                 \n",
      " lstm_19 (LSTM)              (None, 23, 64)            67840     \n",
      "                                                                 \n",
      " lstm_20 (LSTM)              (None, 32)                12416     \n",
      "                                                                 \n",
      " dense_27 (Dense)            (None, 32)                1056      \n",
      "                                                                 \n",
      " dense_28 (Dense)            (None, 1)                 33        \n",
      "                                                                 \n",
      "=================================================================\n",
      "Total params: 2,282,945\n",
      "Trainable params: 2,282,945\n",
      "Non-trainable params: 0\n",
      "_________________________________________________________________\n",
      "Epoch 1/10\n",
      "161/161 [==============================] - 6s 24ms/step - loss: 0.0190 - mae: 0.1068 - val_loss: 0.0202 - val_mae: 0.1091\n",
      "Epoch 2/10\n",
      "161/161 [==============================] - 3s 20ms/step - loss: 0.0190 - mae: 0.1068 - val_loss: 0.0201 - val_mae: 0.1090\n",
      "Epoch 3/10\n",
      "161/161 [==============================] - 3s 20ms/step - loss: 0.0190 - mae: 0.1067 - val_loss: 0.0201 - val_mae: 0.1092\n",
      "Epoch 4/10\n",
      "161/161 [==============================] - 3s 20ms/step - loss: 0.0189 - mae: 0.1067 - val_loss: 0.0200 - val_mae: 0.1093\n",
      "Epoch 5/10\n",
      "161/161 [==============================] - 3s 20ms/step - loss: 0.0188 - mae: 0.1065 - val_loss: 0.0198 - val_mae: 0.1083\n",
      "Epoch 6/10\n",
      "161/161 [==============================] - 3s 20ms/step - loss: 0.0186 - mae: 0.1059 - val_loss: 0.0196 - val_mae: 0.1074\n",
      "Epoch 7/10\n",
      "161/161 [==============================] - 3s 19ms/step - loss: 0.0181 - mae: 0.1045 - val_loss: 0.0190 - val_mae: 0.1063\n",
      "Epoch 8/10\n",
      "161/161 [==============================] - 3s 20ms/step - loss: 0.0170 - mae: 0.1017 - val_loss: 0.0189 - val_mae: 0.1089\n",
      "Epoch 9/10\n",
      "161/161 [==============================] - 3s 19ms/step - loss: 0.0155 - mae: 0.0968 - val_loss: 0.0178 - val_mae: 0.1019\n",
      "Epoch 10/10\n",
      "161/161 [==============================] - 3s 20ms/step - loss: 0.0131 - mae: 0.0882 - val_loss: 0.0180 - val_mae: 0.1013\n"
     ]
    }
   ],
   "source": [
    "model4 = Sequential()\n",
    "\n",
    "# define input layer where embeddings are fed in\n",
    "model4.add(Embedding(max_words, embedding_dim, input_length=max_length))\n",
    "\n",
    "\n",
    "# add the combination layers of model 2 and 3\n",
    "model4.add(LSTM(64, return_sequences=True))\n",
    "model4.add(LSTM(32))\n",
    "model4.add(layers.Dense(32, activation='relu'))\n",
    "model4.add(Dense(1, activation='sigmoid'))\n",
    "model4.summary()\n",
    "\n",
    "model4.compile(optimizer='rmsprop', loss='mse', metrics=['mae'])\n",
    "\n",
    "history4 = model4.fit(x_train, y_train, epochs=10, batch_size=32, validation_data=(x_val, y_val))"
   ]
  },
  {
   "cell_type": "code",
   "execution_count": 146,
   "metadata": {},
   "outputs": [
    {
     "name": "stdout",
     "output_type": "stream",
     "text": [
      "21/21 [==============================] - 0s 7ms/step - loss: 0.0174 - mae: 0.1012\n"
     ]
    },
    {
     "data": {
      "text/plain": [
       "[0.017379922792315483, 0.10123017430305481]"
      ]
     },
     "execution_count": 146,
     "metadata": {},
     "output_type": "execute_result"
    }
   ],
   "source": [
    "model4.evaluate(x_test,y_test)"
   ]
  },
  {
   "cell_type": "code",
   "execution_count": 142,
   "metadata": {},
   "outputs": [
    {
     "data": {
      "image/png": "[encoded data removed]",
      "text/plain": [
       "<Figure size 640x480 with 1 Axes>"
      ]
     },
     "metadata": {},
     "output_type": "display_data"
    }
   ],
   "source": [
    "loss = history4.history['loss']\n",
    "val_loss = history4.history['val_loss']\n",
    "\n",
    "epochs = range(1, len(loss) + 1)\n",
    "\n",
    "plt.plot(epochs, loss, 'bo', label='Training loss')\n",
    "plt.plot(epochs, val_loss, 'b', label='Validation loss')\n",
    "plt.title('Training and validation loss')\n",
    "plt.xlabel('Epochs')\n",
    "plt.ylabel('Loss')\n",
    "plt.legend()\n",
    "\n",
    "plt.show()"
   ]
  },
  {
   "cell_type": "markdown",
   "metadata": {},
   "source": [
    "- **The fifth model** contains an Embedding layer, two LSTM layers, a Dense layer, and a final output layer with a sigmoid activation function, while all the hidden layers have only 8 units each layer."
   ]
  },
  {
   "cell_type": "code",
   "execution_count": 143,
   "metadata": {},
   "outputs": [
    {
     "name": "stdout",
     "output_type": "stream",
     "text": [
      "Model: \"sequential_16\"\n",
      "_________________________________________________________________\n",
      " Layer (type)                Output Shape              Param #   \n",
      "=================================================================\n",
      " embedding_16 (Embedding)    (None, 23, 200)           2201600   \n",
      "                                                                 \n",
      " lstm_21 (LSTM)              (None, 23, 8)             6688      \n",
      "                                                                 \n",
      " lstm_22 (LSTM)              (None, 8)                 544       \n",
      "                                                                 \n",
      " dense_29 (Dense)            (None, 8)                 72        \n",
      "                                                                 \n",
      " dense_30 (Dense)            (None, 1)                 9         \n",
      "                                                                 \n",
      "=================================================================\n",
      "Total params: 2,208,913\n",
      "Trainable params: 2,208,913\n",
      "Non-trainable params: 0\n",
      "_________________________________________________________________\n",
      "Epoch 1/10\n",
      "161/161 [==============================] - 5s 18ms/step - loss: 0.0190 - mae: 0.1067 - val_loss: 0.0201 - val_mae: 0.1086\n",
      "Epoch 2/10\n",
      "161/161 [==============================] - 2s 15ms/step - loss: 0.0189 - mae: 0.1064 - val_loss: 0.0200 - val_mae: 0.1082\n",
      "Epoch 3/10\n",
      "161/161 [==============================] - 2s 15ms/step - loss: 0.0187 - mae: 0.1058 - val_loss: 0.0196 - val_mae: 0.1079\n",
      "Epoch 4/10\n",
      "161/161 [==============================] - 2s 15ms/step - loss: 0.0181 - mae: 0.1043 - val_loss: 0.0190 - val_mae: 0.1064\n",
      "Epoch 5/10\n",
      "161/161 [==============================] - 2s 15ms/step - loss: 0.0171 - mae: 0.1016 - val_loss: 0.0182 - val_mae: 0.1038\n",
      "Epoch 6/10\n",
      "161/161 [==============================] - 2s 14ms/step - loss: 0.0156 - mae: 0.0967 - val_loss: 0.0179 - val_mae: 0.1045\n",
      "Epoch 7/10\n",
      "161/161 [==============================] - 2s 14ms/step - loss: 0.0135 - mae: 0.0897 - val_loss: 0.0182 - val_mae: 0.1044\n",
      "Epoch 8/10\n",
      "161/161 [==============================] - 2s 14ms/step - loss: 0.0113 - mae: 0.0816 - val_loss: 0.0184 - val_mae: 0.1012\n",
      "Epoch 9/10\n",
      "161/161 [==============================] - 2s 14ms/step - loss: 0.0093 - mae: 0.0736 - val_loss: 0.0187 - val_mae: 0.1032\n",
      "Epoch 10/10\n",
      "161/161 [==============================] - 2s 14ms/step - loss: 0.0078 - mae: 0.0671 - val_loss: 0.0193 - val_mae: 0.1046\n"
     ]
    }
   ],
   "source": [
    "model5 = Sequential()\n",
    "\n",
    "# define input layer where embeddings are fed in\n",
    "model5.add(Embedding(max_words, embedding_dim, input_length=max_length))\n",
    "\n",
    "\n",
    "# add the same type of layers as model4 but with 8 units\n",
    "model5.add(LSTM(8, return_sequences=True))\n",
    "model5.add(LSTM(8))\n",
    "model5.add(layers.Dense(8, activation='relu'))\n",
    "model5.add(Dense(1, activation='sigmoid'))\n",
    "model5.summary()\n",
    "\n",
    "model5.compile(optimizer='rmsprop', loss='mse', metrics=['mae'])\n",
    "\n",
    "history5 = model5.fit(x_train, y_train, epochs=10, batch_size=32, validation_data=(x_val, y_val))"
   ]
  },
  {
   "cell_type": "code",
   "execution_count": 145,
   "metadata": {},
   "outputs": [
    {
     "name": "stdout",
     "output_type": "stream",
     "text": [
      "21/21 [==============================] - 0s 4ms/step - loss: 0.0177 - mae: 0.1017\n"
     ]
    },
    {
     "data": {
      "text/plain": [
       "[0.017667820677161217, 0.10170033574104309]"
      ]
     },
     "execution_count": 145,
     "metadata": {},
     "output_type": "execute_result"
    }
   ],
   "source": [
    "model5.evaluate(x_test,y_test)"
   ]
  },
  {
   "cell_type": "code",
   "execution_count": 144,
   "metadata": {},
   "outputs": [
    {
     "data": {
      "image/png": "[encoded data removed]",
      "text/plain": [
       "<Figure size 640x480 with 1 Axes>"
      ]
     },
     "metadata": {},
     "output_type": "display_data"
    }
   ],
   "source": [
    "loss = history5.history['loss']\n",
    "val_loss = history5.history['val_loss']\n",
    "\n",
    "epochs = range(1, len(loss) + 1)\n",
    "\n",
    "plt.plot(epochs, loss, 'bo', label='Training loss')\n",
    "plt.plot(epochs, val_loss, 'b', label='Validation loss')\n",
    "plt.title('Training and validation loss')\n",
    "plt.xlabel('Epochs')\n",
    "plt.ylabel('Loss')\n",
    "plt.legend()\n",
    "\n",
    "plt.show()"
   ]
  },
  {
   "cell_type": "markdown",
   "metadata": {},
   "source": [
    "### 4. Prediction & Conclusion"
   ]
  },
  {
   "cell_type": "code",
   "execution_count": 158,
   "metadata": {},
   "outputs": [
    {
     "data": {
      "text/plain": [
       "['before you get married, read this',\n",
       " '12 party tricks i wished i learned when i was younger',\n",
       " 'we surveyed 450 newlyweds. what we found shocked us',\n",
       " 'i ate nothing but meat for 3 months, and this is what happened to my body',\n",
       " 'only 5% of people can figure out this riddle.',\n",
       " 'official music video']"
      ]
     },
     "execution_count": 158,
     "metadata": {},
     "output_type": "execute_result"
    }
   ],
   "source": [
    "test = [\"Before You Get Married, Read This\",\n",
    "        \"12 Party Tricks I Wished I Learned When I Was Younger\",\n",
    "        \"We Surveyed 450 Newlyweds. What We Found Shocked Us\",\n",
    "        \"I Ate Nothing But Meat For 3 Months, And This Is What Happened To My Body\",\n",
    "        \"Only 5% Of People Can Figure Out This Riddle.\",\n",
    "        \"Official music video\"]\n",
    "list(map(lambda x: x.lower(), test))"
   ]
  },
  {
   "cell_type": "code",
   "execution_count": 156,
   "metadata": {},
   "outputs": [
    {
     "name": "stdout",
     "output_type": "stream",
     "text": [
      "Found 47 unique tokens.\n"
     ]
    }
   ],
   "source": [
    "tokenizer = Tokenizer(num_words=10000,  filters='!\"#$%&()*+,-./:;<=>?@[\\\\]^_`{|}~\\t\\n')\n",
    "tokenizer.fit_on_texts(test)  #list\n",
    "sequences_test = tokenizer.texts_to_sequences(test)\n",
    "padded_data_test = pad_sequences(sequences_test, maxlen=max_length) #length of the longest title\n",
    "\n",
    "word_index = tokenizer.word_index\n",
    "print('Found %s unique tokens.' % len(word_index))"
   ]
  },
  {
   "cell_type": "code",
   "execution_count": 157,
   "metadata": {},
   "outputs": [
    {
     "name": "stdout",
     "output_type": "stream",
     "text": [
      "1/1 [==============================] - 0s 24ms/step\n"
     ]
    },
    {
     "data": {
      "text/plain": [
       "array([[0.5986377 ],\n",
       "       [0.5655294 ],\n",
       "       [0.5312588 ],\n",
       "       [0.50532585],\n",
       "       [0.56203085],\n",
       "       [0.47711912]], dtype=float32)"
      ]
     },
     "execution_count": 157,
     "metadata": {},
     "output_type": "execute_result"
    }
   ],
   "source": [
    "model4.predict(padded_data_test)"
   ]
  },
  {
   "cell_type": "markdown",
   "metadata": {},
   "source": [
    "**Conclusion:** After five experimentations, I would conclude that the fourth model seems to have slightly better result than the others, though it is obvious that all of them have problem of overfitting. \n",
    "\n",
    "We made a small test on our model by giving it online catchy titles and tested if the model can predict the (normalized) views count based on the given data. The answer is *No*. From the data inspection, we already knew that most of the the most_viewed videos are music videos from famous singers or bands, however, our model couldn't generate a higher value for title such as *\"Official music video\"*. In this case, we would argue that clickbait phenomenon is not obvious between title and views count because many other factors should also considered when investigating clickbait phenomenon, for example, \"Is the image relevant? Is it of good quality? Does it have an emotional appeal?\". Moreover, selection of glove pre-trained model can be experimented , for example (1) the dimensions or (2) would the pre-trained model with information from general web crawl perform better than for data from wikipedia in this case? All in all, though some improvements could be done to achieve better performance, the Youtube videos was a great opportunity to explore data with deep learning methods."
   ]
  }
 ],
 "metadata": {
  "kernelspec": {
   "display_name": "Python 3 (ipykernel)",
   "language": "python",
   "name": "python3"
  },
  "language_info": {
   "codemirror_mode": {
    "name": "ipython",
    "version": 3
   },
   "file_extension": ".py",
   "mimetype": "text/x-python",
   "name": "python",
   "nbconvert_exporter": "python",
   "pygments_lexer": "ipython3",
   "version": "3.10.13"
  }
 },
 "nbformat": 4,
 "nbformat_minor": 4
}
